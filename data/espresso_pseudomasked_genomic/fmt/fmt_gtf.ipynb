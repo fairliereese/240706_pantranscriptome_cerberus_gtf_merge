{
 "cells": [
  {
   "cell_type": "code",
   "execution_count": 2,
   "id": "7b809942-250b-4efe-8828-a89231472a4a",
   "metadata": {},
   "outputs": [
    {
     "name": "stdout",
     "output_type": "stream",
     "text": [
      "/Users/fairliereese/Documents/programming/mele_lab/projects/240706_pantranscriptome_cerberus_gtf_merge/scripts/\n"
     ]
    }
   ],
   "source": [
    "import pyranges as pr\n",
    "import seaborn as sns\n",
    "import yaml\n",
    "import os\n",
    "import sys\n",
    "import cerberus\n",
    "# from snakemake.io import expand\n",
    "\n",
    "p = os.path.dirname(os.path.dirname(os.path.dirname(os.getcwd())))+'/scripts/'\n",
    "print(p)\n",
    "sys.path.append(p)\n",
    "\n",
    "from sm_utils import *\n"
   ]
  },
  {
   "cell_type": "code",
   "execution_count": 3,
   "id": "b104ebf9-fce7-4863-a7b9-730603afbf94",
   "metadata": {},
   "outputs": [],
   "source": [
    "config = load_config()\n",
    "od = '../../../'"
   ]
  },
  {
   "cell_type": "code",
   "execution_count": 15,
   "id": "76a86dd8-8326-46b6-bda6-f38aff282801",
   "metadata": {},
   "outputs": [],
   "source": [
    "analysis = 'espresso_pseudomasked_genomic'\n",
    "tool = 'espresso'\n",
    "config_tsv = od+f'snakemake/config_{analysis}_expression.tsv'\n",
    "meta_df = parse_config(config_tsv)\n",
    "meta_df['analysis'] = analysis\n",
    "tech_rep = ['GM10493_1']"
   ]
  },
  {
   "cell_type": "code",
   "execution_count": 16,
   "id": "cf2a4f33-5c20-49ec-b645-c1aed7763c60",
   "metadata": {},
   "outputs": [],
   "source": [
    "import pyranges as pr\n",
    "import pandas as pd"
   ]
  },
  {
   "cell_type": "code",
   "execution_count": 17,
   "id": "4065cec4-f79c-4d18-8715-3d0280a4745c",
   "metadata": {},
   "outputs": [],
   "source": [
    "def make_hier_entry(df, how='t'):\n",
    "    \"\"\"\n",
    "    kind {'g','t'}\n",
    "    \"\"\"\n",
    "    agg_dict = {'min_coord': 'min', 'max_coord': 'max'}\n",
    "    t_df = df.copy(deep=True)\n",
    "    t_df['min_coord'] = t_df[['Start', 'End']].min(axis=1)\n",
    "    t_df['max_coord'] = t_df[['Start', 'End']].max(axis=1)\n",
    "    if how == 't':\n",
    "        gb_cols = ['Chromosome', 'Strand', 'gene_name',\n",
    "                   'gene_id', 'transcript_id', 'transcript_name',\n",
    "                   'tss_id', 'tes_id',\n",
    "                   'new_transcript_id', 'original_transcript_id',\n",
    "                   'original_transcript_name', 'ag1', 'ag2']\n",
    "    elif how == 'g':\n",
    "        gb_cols = ['Chromosome', 'Strand', 'gene_name',\n",
    "                   'gene_id']\n",
    "    gb_cols = list(set(gb_cols)&(set(t_df.columns)))\n",
    "\n",
    "    cols = gb_cols + ['min_coord', 'max_coord']\n",
    "    t_df = t_df[cols]\n",
    "    t_df = t_df.groupby(gb_cols, observed=True).agg(agg_dict).reset_index()\n",
    "    t_df.rename({'min_coord': 'Start', 'max_coord': 'End'}, axis=1, inplace=True)\n",
    "    if how == 't':\n",
    "        t_df['Feature'] = 'transcript'\n",
    "    elif how == 'g':\n",
    "        t_df['Feature'] = 'gene'\n",
    "\n",
    "    return t_df"
   ]
  },
  {
   "cell_type": "code",
   "execution_count": 18,
   "id": "d1a97bba-6221-48b1-94d5-68d5cc6b3e01",
   "metadata": {},
   "outputs": [],
   "source": [
    "# files = expand(od+config['fmt']['novel_gene_rename_gtf'], \n",
    "#        tech_rep=tech_rep,\n",
    "#        analysis=analysis)\n",
    "# for f in files:\n",
    "f = '../../../data/espresso_pseudomasked_genomic/fmt/GM10493_1_novel_gene_rename.gtf'\n",
    "df = pr.read_gtf(f).df"
   ]
  },
  {
   "cell_type": "code",
   "execution_count": 19,
   "id": "4f9f3ea4-d65d-4cc6-bd61-05367093f04e",
   "metadata": {},
   "outputs": [
    {
     "name": "stdout",
     "output_type": "stream",
     "text": [
      "1360\n"
     ]
    }
   ],
   "source": [
    "beep = df.loc[df.gene_id.str.contains('novel')].gene_id.unique().tolist()\n",
    "print(len(beep))"
   ]
  },
  {
   "cell_type": "code",
   "execution_count": 20,
   "id": "45c5a454-862e-452b-96cd-51ac48dc8338",
   "metadata": {},
   "outputs": [],
   "source": [
    "# if tool == 'iq':\n",
    "#     # just grab all the gene ids to be the gene names\n",
    "#     df['gene_name'] = df['gene_id']\n",
    "\n",
    "#     # for transcripts / other transcript-level features do the same but restrict to those feats\n",
    "#     inds = df.loc[df.Feature != 'gene'].index\n",
    "#     df.loc[inds, 'transcript_name'] = df.loc[inds, 'transcript_id']"
   ]
  },
  {
   "cell_type": "code",
   "execution_count": 21,
   "id": "ae3a5daf-a58c-4cb3-b529-0c83f7849b8f",
   "metadata": {},
   "outputs": [
    {
     "name": "stdout",
     "output_type": "stream",
     "text": [
      "215498\n",
      "14336\n",
      "14336\n"
     ]
    }
   ],
   "source": [
    "# make gene entries\n",
    "\n",
    "print(len(df.index))\n",
    "print(len(df.gene_id.unique()))\n",
    "g_df = make_hier_entry(df, how='g')\n",
    "print(len(g_df.loc[g_df.Feature=='gene'].index))"
   ]
  },
  {
   "cell_type": "code",
   "execution_count": 22,
   "id": "cee01653-6370-4031-aa84-05d5a49ad6d4",
   "metadata": {},
   "outputs": [
    {
     "name": "stdout",
     "output_type": "stream",
     "text": [
      "1360\n"
     ]
    }
   ],
   "source": [
    "beep = g_df.loc[g_df.gene_id.str.contains('novel')].gene_id.unique().tolist()\n",
    "print(len(beep))"
   ]
  },
  {
   "cell_type": "code",
   "execution_count": 23,
   "id": "f471f2ce-7add-4bea-b4b1-abd656555e4c",
   "metadata": {},
   "outputs": [
    {
     "data": {
      "text/html": [
       "<div>\n",
       "<style scoped>\n",
       "    .dataframe tbody tr th:only-of-type {\n",
       "        vertical-align: middle;\n",
       "    }\n",
       "\n",
       "    .dataframe tbody tr th {\n",
       "        vertical-align: top;\n",
       "    }\n",
       "\n",
       "    .dataframe thead th {\n",
       "        text-align: right;\n",
       "    }\n",
       "</style>\n",
       "<table border=\"1\" class=\"dataframe\">\n",
       "  <thead>\n",
       "    <tr style=\"text-align: right;\">\n",
       "      <th></th>\n",
       "      <th>Chromosome</th>\n",
       "      <th>gene_id</th>\n",
       "      <th>Strand</th>\n",
       "      <th>Start</th>\n",
       "      <th>End</th>\n",
       "      <th>Feature</th>\n",
       "    </tr>\n",
       "  </thead>\n",
       "  <tbody>\n",
       "  </tbody>\n",
       "</table>\n",
       "</div>"
      ],
      "text/plain": [
       "Empty DataFrame\n",
       "Columns: [Chromosome, gene_id, Strand, Start, End, Feature]\n",
       "Index: []"
      ]
     },
     "execution_count": 23,
     "metadata": {},
     "output_type": "execute_result"
    }
   ],
   "source": [
    "g_df.loc[g_df.gene_id.duplicated(keep=False)].sort_values(by='gene_id')"
   ]
  },
  {
   "cell_type": "code",
   "execution_count": 24,
   "id": "9f043533-5c9b-44b2-a240-748d8f31e245",
   "metadata": {},
   "outputs": [],
   "source": [
    "# concat them and then sort gtf\n",
    "df = pd.concat([df, g_df], axis=0)\n",
    "df = cerberus.sort_gtf(df)\n",
    "df = pr.PyRanges(df)\n",
    "\n",
    "df.to_gtf('test.gtf')"
   ]
  },
  {
   "cell_type": "code",
   "execution_count": null,
   "id": "23f2f990-b5da-47b5-9e2b-797b4b6aa45f",
   "metadata": {},
   "outputs": [],
   "source": []
  }
 ],
 "metadata": {
  "kernelspec": {
   "display_name": "Python 3",
   "language": "python",
   "name": "python3"
  },
  "language_info": {
   "codemirror_mode": {
    "name": "ipython",
    "version": 3
   },
   "file_extension": ".py",
   "mimetype": "text/x-python",
   "name": "python",
   "nbconvert_exporter": "python",
   "pygments_lexer": "ipython3",
   "version": "3.7.12"
  }
 },
 "nbformat": 4,
 "nbformat_minor": 5
}
