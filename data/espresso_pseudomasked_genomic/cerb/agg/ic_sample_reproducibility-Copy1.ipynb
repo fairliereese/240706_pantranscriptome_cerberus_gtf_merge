{
 "cells": [
  {
   "cell_type": "code",
   "execution_count": 1,
   "id": "7bcbde8d-3f04-46a7-9bb1-8c923cd97472",
   "metadata": {},
   "outputs": [],
   "source": [
    "import pandas as pd\n",
    "import numpy as np\n",
    "import scipy.stats as st\n",
    "import seaborn as sns\n",
    "import sys\n",
    "import os\n",
    "import matplotlib.pyplot as plt\n",
    "import swan_vis as swan\n",
    "import yaml\n",
    "from snakemake.io import expand\n",
    "import cerberus\n",
    "import pyranges as pr\n",
    "import upsetplot\n",
    "\n",
    "p = os.path.dirname(os.path.dirname(os.path.dirname(os.path.dirname(os.getcwd()))))\n",
    "sys.path.append(p)\n",
    "\n",
    "# from scripts.utils import *\n",
    "# from scripts.vcf_utils import *\n",
    "from scripts.plotting import *"
   ]
  },
  {
   "cell_type": "code",
   "execution_count": 2,
   "id": "a2c16f2a-bf87-4fbb-8459-6bce5a04a778",
   "metadata": {},
   "outputs": [],
   "source": [
    "meta_file = '/Users/fairliereese/Documents/programming/mele_lab/projects/240706_pantranscriptome_cerberus_gtf_merge/ref/pantranscriptome_samples_metadata.tsv'"
   ]
  },
  {
   "cell_type": "markdown",
   "id": "8f0a6c69-8eba-4964-a646-86ca1bd93825",
   "metadata": {},
   "source": [
    "## Fix gene annots"
   ]
  },
  {
   "cell_type": "code",
   "execution_count": 13,
   "id": "a9601347-7827-465c-9978-de2f1107cfac",
   "metadata": {},
   "outputs": [
    {
     "data": {
      "text/html": [
       "<div>\n",
       "<style scoped>\n",
       "    .dataframe tbody tr th:only-of-type {\n",
       "        vertical-align: middle;\n",
       "    }\n",
       "\n",
       "    .dataframe tbody tr th {\n",
       "        vertical-align: top;\n",
       "    }\n",
       "\n",
       "    .dataframe thead th {\n",
       "        text-align: right;\n",
       "    }\n",
       "</style>\n",
       "<table border=\"1\" class=\"dataframe\">\n",
       "  <thead>\n",
       "    <tr style=\"text-align: right;\">\n",
       "      <th></th>\n",
       "      <th>Chromosome</th>\n",
       "      <th>Strand</th>\n",
       "      <th>Coordinates</th>\n",
       "      <th>Name</th>\n",
       "      <th>source</th>\n",
       "      <th>novelty</th>\n",
       "      <th>gid</th>\n",
       "    </tr>\n",
       "  </thead>\n",
       "  <tbody>\n",
       "    <tr>\n",
       "      <th>385140</th>\n",
       "      <td>GL000219.1</td>\n",
       "      <td>+</td>\n",
       "      <td>98742-99125</td>\n",
       "      <td>NA_1</td>\n",
       "      <td>GM19117_1,GM19129_1,GM19240_1,GM18561_1,GM1863...</td>\n",
       "      <td>NNC</td>\n",
       "      <td>NA</td>\n",
       "    </tr>\n",
       "    <tr>\n",
       "      <th>385141</th>\n",
       "      <td>chr1</td>\n",
       "      <td>-</td>\n",
       "      <td>101410091-101396768</td>\n",
       "      <td>NA_2</td>\n",
       "      <td>GM19117_1,GM19129_1,GM18561_1,GM18774_1,GM1930...</td>\n",
       "      <td>NNC</td>\n",
       "      <td>NA</td>\n",
       "    </tr>\n",
       "    <tr>\n",
       "      <th>385143</th>\n",
       "      <td>chr1</td>\n",
       "      <td>-</td>\n",
       "      <td>101410091-101406651-101406493-101396768</td>\n",
       "      <td>NA_3</td>\n",
       "      <td>GM19117_1,GM19129_1,GM18561_1,GM10492_1,GM1930...</td>\n",
       "      <td>NNC</td>\n",
       "      <td>NA</td>\n",
       "    </tr>\n",
       "    <tr>\n",
       "      <th>385145</th>\n",
       "      <td>chr1</td>\n",
       "      <td>-</td>\n",
       "      <td>101410311-101410211-101410091-101396768</td>\n",
       "      <td>NA_4</td>\n",
       "      <td>GM19117_1,GM19129_1,GM19352_1,GM19390_1,GM2229...</td>\n",
       "      <td>NNC</td>\n",
       "      <td>NA</td>\n",
       "    </tr>\n",
       "    <tr>\n",
       "      <th>385148</th>\n",
       "      <td>chr1</td>\n",
       "      <td>-</td>\n",
       "      <td>101448575-101396768</td>\n",
       "      <td>NA_5</td>\n",
       "      <td>GM19117_1,GM19240_1,GM18561_1,GM10492_1,GM1939...</td>\n",
       "      <td>NNC</td>\n",
       "      <td>NA</td>\n",
       "    </tr>\n",
       "    <tr>\n",
       "      <th>...</th>\n",
       "      <td>...</td>\n",
       "      <td>...</td>\n",
       "      <td>...</td>\n",
       "      <td>...</td>\n",
       "      <td>...</td>\n",
       "      <td>...</td>\n",
       "      <td>...</td>\n",
       "    </tr>\n",
       "    <tr>\n",
       "      <th>404589</th>\n",
       "      <td>chrX</td>\n",
       "      <td>-</td>\n",
       "      <td>126994097-126993619</td>\n",
       "      <td>NA_10496</td>\n",
       "      <td>GM19093_1</td>\n",
       "      <td>NNC</td>\n",
       "      <td>NA</td>\n",
       "    </tr>\n",
       "    <tr>\n",
       "      <th>404590</th>\n",
       "      <td>chrX</td>\n",
       "      <td>-</td>\n",
       "      <td>136935901-136932529</td>\n",
       "      <td>NA_10497</td>\n",
       "      <td>GM19093_1</td>\n",
       "      <td>NNC</td>\n",
       "      <td>NA</td>\n",
       "    </tr>\n",
       "    <tr>\n",
       "      <th>404591</th>\n",
       "      <td>chrX</td>\n",
       "      <td>-</td>\n",
       "      <td>15158710-15157670</td>\n",
       "      <td>NA_10498</td>\n",
       "      <td>GM19093_1</td>\n",
       "      <td>NNC</td>\n",
       "      <td>NA</td>\n",
       "    </tr>\n",
       "    <tr>\n",
       "      <th>404592</th>\n",
       "      <td>chrX</td>\n",
       "      <td>-</td>\n",
       "      <td>48071064-48069072</td>\n",
       "      <td>NA_10499</td>\n",
       "      <td>GM19093_1</td>\n",
       "      <td>NNC</td>\n",
       "      <td>NA</td>\n",
       "    </tr>\n",
       "    <tr>\n",
       "      <th>404593</th>\n",
       "      <td>chrX</td>\n",
       "      <td>-</td>\n",
       "      <td>89081091-89080181-89080026-89077980</td>\n",
       "      <td>NA_10500</td>\n",
       "      <td>GM19093_1</td>\n",
       "      <td>NNC</td>\n",
       "      <td>NA</td>\n",
       "    </tr>\n",
       "  </tbody>\n",
       "</table>\n",
       "<p>10500 rows × 7 columns</p>\n",
       "</div>"
      ],
      "text/plain": [
       "        Chromosome Strand                              Coordinates      Name  \\\n",
       "385140  GL000219.1      +                              98742-99125      NA_1   \n",
       "385141        chr1      -                      101410091-101396768      NA_2   \n",
       "385143        chr1      -  101410091-101406651-101406493-101396768      NA_3   \n",
       "385145        chr1      -  101410311-101410211-101410091-101396768      NA_4   \n",
       "385148        chr1      -                      101448575-101396768      NA_5   \n",
       "...            ...    ...                                      ...       ...   \n",
       "404589        chrX      -                      126994097-126993619  NA_10496   \n",
       "404590        chrX      -                      136935901-136932529  NA_10497   \n",
       "404591        chrX      -                        15158710-15157670  NA_10498   \n",
       "404592        chrX      -                        48071064-48069072  NA_10499   \n",
       "404593        chrX      -      89081091-89080181-89080026-89077980  NA_10500   \n",
       "\n",
       "                                                   source novelty gid  \n",
       "385140  GM19117_1,GM19129_1,GM19240_1,GM18561_1,GM1863...     NNC  NA  \n",
       "385141  GM19117_1,GM19129_1,GM18561_1,GM18774_1,GM1930...     NNC  NA  \n",
       "385143  GM19117_1,GM19129_1,GM18561_1,GM10492_1,GM1930...     NNC  NA  \n",
       "385145  GM19117_1,GM19129_1,GM19352_1,GM19390_1,GM2229...     NNC  NA  \n",
       "385148  GM19117_1,GM19240_1,GM18561_1,GM10492_1,GM1939...     NNC  NA  \n",
       "...                                                   ...     ...  ..  \n",
       "404589                                          GM19093_1     NNC  NA  \n",
       "404590                                          GM19093_1     NNC  NA  \n",
       "404591                                          GM19093_1     NNC  NA  \n",
       "404592                                          GM19093_1     NNC  NA  \n",
       "404593                                          GM19093_1     NNC  NA  \n",
       "\n",
       "[10500 rows x 7 columns]"
      ]
     },
     "execution_count": 13,
     "metadata": {},
     "output_type": "execute_result"
    }
   ],
   "source": [
    "df = pd.read_csv('agg_ics.tsv', sep='\\t')\n",
    "df['gid'] = df['Name'].str.rsplit('_', expand=True)[0]\n",
    "df.loc[df.gid=='NA']"
   ]
  },
  {
   "cell_type": "code",
   "execution_count": 22,
   "id": "cf96bd47-b3b0-472a-9b67-5a2c759e9f40",
   "metadata": {},
   "outputs": [],
   "source": [
    "df = pd.read_csv('agg_ics.tsv', sep='\\t')\n",
    "df.source = df.source.astype('str')\n",
    "df['gene_id'] = df.Name.str.rsplit('_', n=1, expand=True)[0]\n",
    "\n",
    "# reannotate novel genes novelty\n",
    "# df.loc[df.Name.str.contains('novel'), 'novelty'] = 'Intergenic' # this is the isoquant way of telling\n",
    "df.loc[df.gene_id=='NA', 'novelty'] = 'Intergenic'\n",
    "\n",
    "# df.loc[~df.source.str.contains('47')].novelty.unique()\n",
    "\n",
    "# # get only the novel transcripts\n",
    "# df = df.loc[~df.source.str.contains('47')]\n",
    "\n",
    "# get the transcripts that are expressed \n",
    "# df = df.loc[df.source.str.contains(',')]\n",
    "\n",
    "# get ic : sample info\n",
    "df['source'] == df['source'].astype('str')\n",
    "df['source'] = df.source.str.split(',')\n",
    "df = df[['Name', 'source', 'novelty', 'Chromosome', 'Coordinates', 'gene_id']].explode('source')\n",
    "\n",
    "df['sample'] = df.source.str.split('_', expand=True)[0]\n",
    "\n",
    "# get population info\n",
    "meta = pd.read_csv(meta_file, sep='\\t')\n",
    "df = df.merge(meta[['sample', 'population']], how='left', on='sample')"
   ]
  },
  {
   "cell_type": "code",
   "execution_count": 23,
   "id": "d6d47c2e-ae0c-4809-9d80-3b44e3d25fb0",
   "metadata": {},
   "outputs": [
    {
     "data": {
      "text/plain": [
       "array(['Known', 'NNC', 'Intergenic', 'NIC', 'ISM'], dtype=object)"
      ]
     },
     "execution_count": 23,
     "metadata": {},
     "output_type": "execute_result"
    }
   ],
   "source": [
    "df.novelty.unique()"
   ]
  },
  {
   "cell_type": "code",
   "execution_count": 24,
   "id": "a87edef6-344f-410c-9699-e6ef45f00ba1",
   "metadata": {},
   "outputs": [
    {
     "data": {
      "text/html": [
       "<div>\n",
       "<style scoped>\n",
       "    .dataframe tbody tr th:only-of-type {\n",
       "        vertical-align: middle;\n",
       "    }\n",
       "\n",
       "    .dataframe tbody tr th {\n",
       "        vertical-align: top;\n",
       "    }\n",
       "\n",
       "    .dataframe thead th {\n",
       "        text-align: right;\n",
       "    }\n",
       "</style>\n",
       "<table border=\"1\" class=\"dataframe\">\n",
       "  <thead>\n",
       "    <tr style=\"text-align: right;\">\n",
       "      <th></th>\n",
       "      <th>Name</th>\n",
       "      <th>source</th>\n",
       "      <th>novelty</th>\n",
       "      <th>Chromosome</th>\n",
       "      <th>Coordinates</th>\n",
       "      <th>gene_id</th>\n",
       "      <th>sample</th>\n",
       "      <th>population</th>\n",
       "    </tr>\n",
       "  </thead>\n",
       "  <tbody>\n",
       "  </tbody>\n",
       "</table>\n",
       "</div>"
      ],
      "text/plain": [
       "Empty DataFrame\n",
       "Columns: [Name, source, novelty, Chromosome, Coordinates, gene_id, sample, population]\n",
       "Index: []"
      ]
     },
     "execution_count": 24,
     "metadata": {},
     "output_type": "execute_result"
    }
   ],
   "source": [
    "df.loc[df.gene_id.isnull()].head()\n",
    "df.loc[df.gene_id == ''].head()"
   ]
  },
  {
   "cell_type": "code",
   "execution_count": 25,
   "id": "9d16853c-d566-40ee-b30f-6b495b622a2b",
   "metadata": {},
   "outputs": [
    {
     "data": {
      "text/html": [
       "<div>\n",
       "<style scoped>\n",
       "    .dataframe tbody tr th:only-of-type {\n",
       "        vertical-align: middle;\n",
       "    }\n",
       "\n",
       "    .dataframe tbody tr th {\n",
       "        vertical-align: top;\n",
       "    }\n",
       "\n",
       "    .dataframe thead th {\n",
       "        text-align: right;\n",
       "    }\n",
       "</style>\n",
       "<table border=\"1\" class=\"dataframe\">\n",
       "  <thead>\n",
       "    <tr style=\"text-align: right;\">\n",
       "      <th></th>\n",
       "      <th>novelty</th>\n",
       "      <th>Chromosome</th>\n",
       "      <th>Coordinates</th>\n",
       "      <th>gene_id</th>\n",
       "    </tr>\n",
       "  </thead>\n",
       "  <tbody>\n",
       "    <tr>\n",
       "      <th>0</th>\n",
       "      <td>Known</td>\n",
       "      <td>GL000008.2</td>\n",
       "      <td>170271-157581-157527-154715-154562-153412</td>\n",
       "      <td>ENSG00000296775</td>\n",
       "    </tr>\n",
       "    <tr>\n",
       "      <th>1</th>\n",
       "      <td>Known</td>\n",
       "      <td>GL000008.2</td>\n",
       "      <td>170271-163998-163784-162439</td>\n",
       "      <td>ENSG00000296775</td>\n",
       "    </tr>\n",
       "    <tr>\n",
       "      <th>2</th>\n",
       "      <td>Known</td>\n",
       "      <td>GL000008.2</td>\n",
       "      <td>170271-163998-163784-162439</td>\n",
       "      <td>ENSG00000296775</td>\n",
       "    </tr>\n",
       "    <tr>\n",
       "      <th>3</th>\n",
       "      <td>Known</td>\n",
       "      <td>GL000008.2</td>\n",
       "      <td>170271-163998-163784-162439</td>\n",
       "      <td>ENSG00000296775</td>\n",
       "    </tr>\n",
       "    <tr>\n",
       "      <th>4</th>\n",
       "      <td>Known</td>\n",
       "      <td>GL000008.2</td>\n",
       "      <td>170271-163998-163784-162439</td>\n",
       "      <td>ENSG00000296775</td>\n",
       "    </tr>\n",
       "  </tbody>\n",
       "</table>\n",
       "</div>"
      ],
      "text/plain": [
       "  novelty  Chromosome                                Coordinates  \\\n",
       "0   Known  GL000008.2  170271-157581-157527-154715-154562-153412   \n",
       "1   Known  GL000008.2                170271-163998-163784-162439   \n",
       "2   Known  GL000008.2                170271-163998-163784-162439   \n",
       "3   Known  GL000008.2                170271-163998-163784-162439   \n",
       "4   Known  GL000008.2                170271-163998-163784-162439   \n",
       "\n",
       "           gene_id  \n",
       "0  ENSG00000296775  \n",
       "1  ENSG00000296775  \n",
       "2  ENSG00000296775  \n",
       "3  ENSG00000296775  \n",
       "4  ENSG00000296775  "
      ]
     },
     "execution_count": 25,
     "metadata": {},
     "output_type": "execute_result"
    }
   ],
   "source": [
    "# count the number of known and novel genes that match with each novel IC (no unspliced)\n",
    "temp = df.loc[df.Coordinates != '-']\n",
    "temp[['novelty', 'Chromosome', 'Coordinates', 'gene_id']].head()"
   ]
  },
  {
   "cell_type": "code",
   "execution_count": 26,
   "id": "a9afe570-2b77-43be-86b5-91cc9061b1ae",
   "metadata": {},
   "outputs": [
    {
     "data": {
      "text/html": [
       "<div>\n",
       "<style scoped>\n",
       "    .dataframe tbody tr th:only-of-type {\n",
       "        vertical-align: middle;\n",
       "    }\n",
       "\n",
       "    .dataframe tbody tr th {\n",
       "        vertical-align: top;\n",
       "    }\n",
       "\n",
       "    .dataframe thead th {\n",
       "        text-align: right;\n",
       "    }\n",
       "</style>\n",
       "<table border=\"1\" class=\"dataframe\">\n",
       "  <thead>\n",
       "    <tr style=\"text-align: right;\">\n",
       "      <th></th>\n",
       "      <th>Chromosome</th>\n",
       "      <th>Coordinates</th>\n",
       "      <th>n_genes</th>\n",
       "    </tr>\n",
       "  </thead>\n",
       "  <tbody>\n",
       "    <tr>\n",
       "      <th>0</th>\n",
       "      <td>GL000008.2</td>\n",
       "      <td>170271-157581-157527-154715-154562-153412</td>\n",
       "      <td>1</td>\n",
       "    </tr>\n",
       "    <tr>\n",
       "      <th>1</th>\n",
       "      <td>GL000008.2</td>\n",
       "      <td>170271-163998-163784-162439</td>\n",
       "      <td>1</td>\n",
       "    </tr>\n",
       "    <tr>\n",
       "      <th>2</th>\n",
       "      <td>GL000008.2</td>\n",
       "      <td>170271-164884-164584-163998-163784-162439</td>\n",
       "      <td>1</td>\n",
       "    </tr>\n",
       "    <tr>\n",
       "      <th>3</th>\n",
       "      <td>GL000008.2</td>\n",
       "      <td>170271-164884-164602-157581</td>\n",
       "      <td>1</td>\n",
       "    </tr>\n",
       "    <tr>\n",
       "      <th>4</th>\n",
       "      <td>GL000008.2</td>\n",
       "      <td>170271-164884-164602-163998-163784-157581</td>\n",
       "      <td>1</td>\n",
       "    </tr>\n",
       "  </tbody>\n",
       "</table>\n",
       "</div>"
      ],
      "text/plain": [
       "   Chromosome                                Coordinates  n_genes\n",
       "0  GL000008.2  170271-157581-157527-154715-154562-153412        1\n",
       "1  GL000008.2                170271-163998-163784-162439        1\n",
       "2  GL000008.2  170271-164884-164584-163998-163784-162439        1\n",
       "3  GL000008.2                170271-164884-164602-157581        1\n",
       "4  GL000008.2  170271-164884-164602-163998-163784-157581        1"
      ]
     },
     "execution_count": 26,
     "metadata": {},
     "output_type": "execute_result"
    }
   ],
   "source": [
    "temp= df[['Chromosome', 'Coordinates', 'gene_id', 'novelty']]\n",
    "temp = temp.loc[temp.Coordinates!='-']\n",
    "temp = temp.loc[temp.novelty=='Known']\n",
    "temp.drop('novelty', axis=1, inplace=True)\n",
    "temp = temp.groupby(['Chromosome', 'Coordinates']).nunique().reset_index().rename({'gene_id':'n_genes'}, axis=1)\n",
    "temp.head()"
   ]
  },
  {
   "cell_type": "code",
   "execution_count": 27,
   "id": "f8640d47-6bb9-4f82-b655-e116b1ad0599",
   "metadata": {},
   "outputs": [],
   "source": [
    "temp = temp.loc[temp.n_genes>1]\n",
    "temp2 = df.loc[df.novelty!='Known']\n",
    "temp2 = temp2[['Chromosome', 'Coordinates', 'novelty']]\n",
    "temp2 = temp2.merge(temp, how='inner', on=['Chromosome', 'Coordinates'])"
   ]
  },
  {
   "cell_type": "code",
   "execution_count": 28,
   "id": "14bd5da8-d8fb-4c74-a3da-0ff21c0f05d9",
   "metadata": {},
   "outputs": [
    {
     "data": {
      "text/plain": [
       "0"
      ]
     },
     "execution_count": 28,
     "metadata": {},
     "output_type": "execute_result"
    }
   ],
   "source": [
    "len(temp2[['Chromosome', 'Coordinates']].drop_duplicates())"
   ]
  },
  {
   "cell_type": "code",
   "execution_count": 29,
   "id": "40950b17-b644-46b3-a871-e4c428e70cab",
   "metadata": {},
   "outputs": [
    {
     "data": {
      "text/plain": [
       "22"
      ]
     },
     "execution_count": 29,
     "metadata": {},
     "output_type": "execute_result"
    }
   ],
   "source": [
    "22"
   ]
  },
  {
   "cell_type": "code",
   "execution_count": null,
   "id": "ffd4654c-5508-4d7c-8030-94c22a0c72f4",
   "metadata": {},
   "outputs": [],
   "source": []
  },
  {
   "cell_type": "code",
   "execution_count": null,
   "id": "3b8dd7f5-1291-4eae-acf2-fc425783d884",
   "metadata": {},
   "outputs": [],
   "source": []
  },
  {
   "cell_type": "code",
   "execution_count": null,
   "id": "dab6753b-185f-4d73-a936-e551c9f2910d",
   "metadata": {},
   "outputs": [],
   "source": []
  },
  {
   "cell_type": "code",
   "execution_count": null,
   "id": "7d7b2fcb-ddfb-48b1-a490-93046e794b4c",
   "metadata": {},
   "outputs": [],
   "source": []
  },
  {
   "cell_type": "code",
   "execution_count": null,
   "id": "c3b57230-9ee8-48f4-a140-416db08183e3",
   "metadata": {},
   "outputs": [],
   "source": []
  },
  {
   "cell_type": "code",
   "execution_count": null,
   "id": "7c5b4b7c-156a-465d-b85b-227deba767f8",
   "metadata": {},
   "outputs": [],
   "source": []
  },
  {
   "cell_type": "code",
   "execution_count": null,
   "id": "c8cf59ab-8f6d-4f80-a414-6588e5f9e10c",
   "metadata": {},
   "outputs": [],
   "source": []
  },
  {
   "cell_type": "code",
   "execution_count": null,
   "id": "210194f2-5a95-4e2d-85d8-332b43282cbb",
   "metadata": {},
   "outputs": [],
   "source": []
  },
  {
   "cell_type": "markdown",
   "id": "1297897f-7a5e-4dea-81a5-5c8232b43cfc",
   "metadata": {},
   "source": [
    "## How many NNCs have no known gene in annot?"
   ]
  },
  {
   "cell_type": "code",
   "execution_count": 30,
   "id": "659976a5-2883-4e02-b952-d922736747e7",
   "metadata": {},
   "outputs": [
    {
     "data": {
      "text/html": [
       "<div>\n",
       "<style scoped>\n",
       "    .dataframe tbody tr th:only-of-type {\n",
       "        vertical-align: middle;\n",
       "    }\n",
       "\n",
       "    .dataframe tbody tr th {\n",
       "        vertical-align: top;\n",
       "    }\n",
       "\n",
       "    .dataframe thead th {\n",
       "        text-align: right;\n",
       "    }\n",
       "</style>\n",
       "<table border=\"1\" class=\"dataframe\">\n",
       "  <thead>\n",
       "    <tr style=\"text-align: right;\">\n",
       "      <th></th>\n",
       "      <th>gene_novelty</th>\n",
       "      <th>novelty</th>\n",
       "      <th>n_ic</th>\n",
       "    </tr>\n",
       "  </thead>\n",
       "  <tbody>\n",
       "    <tr>\n",
       "      <th>0</th>\n",
       "      <td>Known</td>\n",
       "      <td>ISM</td>\n",
       "      <td>4079</td>\n",
       "    </tr>\n",
       "    <tr>\n",
       "      <th>1</th>\n",
       "      <td>Known</td>\n",
       "      <td>Known</td>\n",
       "      <td>385139</td>\n",
       "    </tr>\n",
       "    <tr>\n",
       "      <th>2</th>\n",
       "      <td>Known</td>\n",
       "      <td>NIC</td>\n",
       "      <td>1470</td>\n",
       "    </tr>\n",
       "    <tr>\n",
       "      <th>3</th>\n",
       "      <td>Known</td>\n",
       "      <td>NNC</td>\n",
       "      <td>3408</td>\n",
       "    </tr>\n",
       "    <tr>\n",
       "      <th>4</th>\n",
       "      <td>Novel</td>\n",
       "      <td>Intergenic</td>\n",
       "      <td>10500</td>\n",
       "    </tr>\n",
       "  </tbody>\n",
       "</table>\n",
       "</div>"
      ],
      "text/plain": [
       "  gene_novelty     novelty    n_ic\n",
       "0        Known         ISM    4079\n",
       "1        Known       Known  385139\n",
       "2        Known         NIC    1470\n",
       "3        Known         NNC    3408\n",
       "4        Novel  Intergenic   10500"
      ]
     },
     "execution_count": 30,
     "metadata": {},
     "output_type": "execute_result"
    }
   ],
   "source": [
    "df = pd.read_csv('agg_ics.tsv', sep='\\t')\n",
    "# convert source dtype to str\n",
    "df['source'] = df['source'].astype(str)\n",
    "df['gene_id'] = df.Name.str.split('_', n=1, expand=True)[0]\n",
    "# reannotate novel genes novelty\n",
    "# df.loc[df.Name.str.contains('novel'), 'novelty'] = 'Intergenic'\n",
    "df.loc[df.gene_id=='NA', 'novelty'] = 'Intergenic'\n",
    "known_gids = df.loc[df.source.str.contains('47'), 'gene_id'].unique().tolist()\n",
    "df['gene_novelty'] = 'Novel'\n",
    "df.loc[df.gene_id.isin(known_gids), 'gene_novelty'] = 'Known'\n",
    "df[['Name', 'gene_novelty', 'novelty']].groupby(['gene_novelty', 'novelty']).nunique().rename({'Name':'n_ic'}, axis=1).reset_index()"
   ]
  },
  {
   "cell_type": "markdown",
   "id": "3e21074a-a0cb-4527-bcf8-638ab490c7a5",
   "metadata": {},
   "source": [
    "## how many known genes does each IC overlap with ?"
   ]
  },
  {
   "cell_type": "code",
   "execution_count": 31,
   "id": "83c13742-2538-4274-a24d-f3baa1514934",
   "metadata": {},
   "outputs": [],
   "source": [
    "# temp = temp.loc[temp.Coordinates!='-']\n",
    "# temp = temp[['Coordinates'"
   ]
  },
  {
   "cell_type": "code",
   "execution_count": 32,
   "id": "c8823fe1-00e1-423d-ad51-af0cb4cdb52a",
   "metadata": {},
   "outputs": [],
   "source": [
    "# # ensure no overlap b/w \"novel\" ICs\n",
    "# # assert len(temp.loc[temp.source.str.contains(',')]) == 0\n",
    "# temp.loc[temp.source.str.contains(',')]"
   ]
  },
  {
   "cell_type": "code",
   "execution_count": 33,
   "id": "c75c1f24-2076-4a76-b865-d3d122143b8b",
   "metadata": {},
   "outputs": [
    {
     "data": {
      "text/html": [
       "<div>\n",
       "<style scoped>\n",
       "    .dataframe tbody tr th:only-of-type {\n",
       "        vertical-align: middle;\n",
       "    }\n",
       "\n",
       "    .dataframe tbody tr th {\n",
       "        vertical-align: top;\n",
       "    }\n",
       "\n",
       "    .dataframe thead th {\n",
       "        text-align: right;\n",
       "    }\n",
       "</style>\n",
       "<table border=\"1\" class=\"dataframe\">\n",
       "  <thead>\n",
       "    <tr style=\"text-align: right;\">\n",
       "      <th></th>\n",
       "      <th>Chromosome</th>\n",
       "      <th>Strand</th>\n",
       "      <th>Coordinates</th>\n",
       "      <th>Name</th>\n",
       "      <th>source</th>\n",
       "      <th>novelty</th>\n",
       "      <th>gene_id</th>\n",
       "      <th>gene_novelty</th>\n",
       "    </tr>\n",
       "  </thead>\n",
       "  <tbody>\n",
       "    <tr>\n",
       "      <th>19782</th>\n",
       "      <td>chr1</td>\n",
       "      <td>-</td>\n",
       "      <td>99969304-99968477</td>\n",
       "      <td>ENSG00000228084_2</td>\n",
       "      <td>47,GM19117_1,GM19129_1,GM19240_1,GM18561_1,GM1...</td>\n",
       "      <td>Known</td>\n",
       "      <td>ENSG00000228084</td>\n",
       "      <td>Known</td>\n",
       "    </tr>\n",
       "  </tbody>\n",
       "</table>\n",
       "</div>"
      ],
      "text/plain": [
       "      Chromosome Strand        Coordinates               Name  \\\n",
       "19782       chr1      -  99969304-99968477  ENSG00000228084_2   \n",
       "\n",
       "                                                  source novelty  \\\n",
       "19782  47,GM19117_1,GM19129_1,GM19240_1,GM18561_1,GM1...   Known   \n",
       "\n",
       "               gene_id gene_novelty  \n",
       "19782  ENSG00000228084        Known  "
      ]
     },
     "execution_count": 33,
     "metadata": {},
     "output_type": "execute_result"
    }
   ],
   "source": [
    "df.loc[df.Coordinates=='99969304-99968477']"
   ]
  },
  {
   "cell_type": "code",
   "execution_count": null,
   "id": "26536c87-af78-42b8-a82b-f063ec0cd663",
   "metadata": {},
   "outputs": [],
   "source": []
  },
  {
   "cell_type": "code",
   "execution_count": null,
   "id": "2a36a890-8b0d-4eb7-b6c7-2e351a481f70",
   "metadata": {},
   "outputs": [],
   "source": []
  },
  {
   "cell_type": "code",
   "execution_count": null,
   "id": "83b337fd-af54-413c-bd15-645ea6f90117",
   "metadata": {},
   "outputs": [],
   "source": []
  },
  {
   "cell_type": "code",
   "execution_count": null,
   "id": "0a8da0ae-f3ec-4162-8104-d2e83bf11972",
   "metadata": {},
   "outputs": [],
   "source": []
  },
  {
   "cell_type": "code",
   "execution_count": null,
   "id": "26c6b041-1895-43b0-a392-01d1dd8f1e7f",
   "metadata": {},
   "outputs": [],
   "source": []
  },
  {
   "cell_type": "code",
   "execution_count": null,
   "id": "904d605a-5cc7-4190-b329-eb35c1979c48",
   "metadata": {},
   "outputs": [],
   "source": []
  },
  {
   "cell_type": "code",
   "execution_count": null,
   "id": "373a6a7a-52f8-4a26-af6a-e9b8e021e265",
   "metadata": {},
   "outputs": [],
   "source": [
    "len(df.index)"
   ]
  },
  {
   "cell_type": "code",
   "execution_count": 4,
   "id": "6543399b-0240-46df-8a2b-40daa4bc0274",
   "metadata": {},
   "outputs": [
    {
     "data": {
      "text/html": [
       "<div>\n",
       "<style scoped>\n",
       "    .dataframe tbody tr th:only-of-type {\n",
       "        vertical-align: middle;\n",
       "    }\n",
       "\n",
       "    .dataframe tbody tr th {\n",
       "        vertical-align: top;\n",
       "    }\n",
       "\n",
       "    .dataframe thead th {\n",
       "        text-align: right;\n",
       "    }\n",
       "</style>\n",
       "<table border=\"1\" class=\"dataframe\">\n",
       "  <thead>\n",
       "    <tr style=\"text-align: right;\">\n",
       "      <th></th>\n",
       "      <th>Name</th>\n",
       "    </tr>\n",
       "    <tr>\n",
       "      <th>novelty</th>\n",
       "      <th></th>\n",
       "    </tr>\n",
       "  </thead>\n",
       "  <tbody>\n",
       "    <tr>\n",
       "      <th>ISM</th>\n",
       "      <td>889</td>\n",
       "    </tr>\n",
       "    <tr>\n",
       "      <th>NIC</th>\n",
       "      <td>426</td>\n",
       "    </tr>\n",
       "    <tr>\n",
       "      <th>NNC</th>\n",
       "      <td>57696</td>\n",
       "    </tr>\n",
       "  </tbody>\n",
       "</table>\n",
       "</div>"
      ],
      "text/plain": [
       "          Name\n",
       "novelty       \n",
       "ISM        889\n",
       "NIC        426\n",
       "NNC      57696"
      ]
     },
     "execution_count": 4,
     "metadata": {},
     "output_type": "execute_result"
    }
   ],
   "source": [
    "temp = df[['Name', 'novelty']].groupby('novelty').nunique()\n",
    "temp"
   ]
  },
  {
   "cell_type": "code",
   "execution_count": 5,
   "id": "fd6edb97-fb56-4af1-918d-622a728c92f8",
   "metadata": {},
   "outputs": [],
   "source": [
    "# d = meta[['population', 'color']].drop_duplicates().set_index('population').to_dict(orient='index')\n",
    "# d = dict([(k, i['color']) for k,i in d.items()])"
   ]
  },
  {
   "cell_type": "code",
   "execution_count": null,
   "id": "4fba5c4b-8bda-4769-96e0-75e4acbe63b7",
   "metadata": {},
   "outputs": [],
   "source": []
  },
  {
   "cell_type": "code",
   "execution_count": 88,
   "id": "122c7a17-6006-455e-a813-afe5c71f22f0",
   "metadata": {},
   "outputs": [],
   "source": [
    "c_dict, order = get_pop_colors()"
   ]
  },
  {
   "cell_type": "code",
   "execution_count": 89,
   "id": "840a6e9c-410b-4052-8b84-5a6d18433e25",
   "metadata": {},
   "outputs": [
    {
     "data": {
      "text/html": [
       "<div>\n",
       "<style scoped>\n",
       "    .dataframe tbody tr th:only-of-type {\n",
       "        vertical-align: middle;\n",
       "    }\n",
       "\n",
       "    .dataframe tbody tr th {\n",
       "        vertical-align: top;\n",
       "    }\n",
       "\n",
       "    .dataframe thead th {\n",
       "        text-align: right;\n",
       "    }\n",
       "</style>\n",
       "<table border=\"1\" class=\"dataframe\">\n",
       "  <thead>\n",
       "    <tr style=\"text-align: right;\">\n",
       "      <th></th>\n",
       "      <th>Chromosome</th>\n",
       "      <th>Strand</th>\n",
       "      <th>Coordinates</th>\n",
       "      <th>Name</th>\n",
       "      <th>source</th>\n",
       "      <th>novelty</th>\n",
       "    </tr>\n",
       "  </thead>\n",
       "  <tbody>\n",
       "    <tr>\n",
       "      <th>0</th>\n",
       "      <td>GL000008.2</td>\n",
       "      <td>-</td>\n",
       "      <td>170271-157581-157527-154715-154562-153412</td>\n",
       "      <td>ENSG00000296775_5</td>\n",
       "      <td>47</td>\n",
       "      <td>Known</td>\n",
       "    </tr>\n",
       "    <tr>\n",
       "      <th>1</th>\n",
       "      <td>GL000008.2</td>\n",
       "      <td>-</td>\n",
       "      <td>170271-163998-163784-162439</td>\n",
       "      <td>ENSG00000296775_6</td>\n",
       "      <td>47,GM22234_1,GM19093_1,GM10493_1,GM10496_1</td>\n",
       "      <td>Known</td>\n",
       "    </tr>\n",
       "    <tr>\n",
       "      <th>2</th>\n",
       "      <td>GL000008.2</td>\n",
       "      <td>-</td>\n",
       "      <td>170271-164884-164584-163998-163784-162439</td>\n",
       "      <td>ENSG00000296775_7</td>\n",
       "      <td>47</td>\n",
       "      <td>Known</td>\n",
       "    </tr>\n",
       "    <tr>\n",
       "      <th>3</th>\n",
       "      <td>GL000008.2</td>\n",
       "      <td>-</td>\n",
       "      <td>170271-164884-164602-157581</td>\n",
       "      <td>ENSG00000296775_8</td>\n",
       "      <td>47</td>\n",
       "      <td>Known</td>\n",
       "    </tr>\n",
       "    <tr>\n",
       "      <th>4</th>\n",
       "      <td>GL000008.2</td>\n",
       "      <td>-</td>\n",
       "      <td>170271-164884-164602-163998-163784-157581</td>\n",
       "      <td>ENSG00000296775_9</td>\n",
       "      <td>47,GM22234_1</td>\n",
       "      <td>Known</td>\n",
       "    </tr>\n",
       "  </tbody>\n",
       "</table>\n",
       "</div>"
      ],
      "text/plain": [
       "   Chromosome Strand                                Coordinates  \\\n",
       "0  GL000008.2      -  170271-157581-157527-154715-154562-153412   \n",
       "1  GL000008.2      -                170271-163998-163784-162439   \n",
       "2  GL000008.2      -  170271-164884-164584-163998-163784-162439   \n",
       "3  GL000008.2      -                170271-164884-164602-157581   \n",
       "4  GL000008.2      -  170271-164884-164602-163998-163784-157581   \n",
       "\n",
       "                Name                                      source novelty  \n",
       "0  ENSG00000296775_5                                          47   Known  \n",
       "1  ENSG00000296775_6  47,GM22234_1,GM19093_1,GM10493_1,GM10496_1   Known  \n",
       "2  ENSG00000296775_7                                          47   Known  \n",
       "3  ENSG00000296775_8                                          47   Known  \n",
       "4  ENSG00000296775_9                                47,GM22234_1   Known  "
      ]
     },
     "execution_count": 89,
     "metadata": {},
     "output_type": "execute_result"
    }
   ],
   "source": [
    "df = pd.read_csv('agg_ics.tsv', sep='\\t')\n",
    "df.head()"
   ]
  },
  {
   "cell_type": "code",
   "execution_count": 40,
   "id": "2f6cae35-9523-45c5-a1b9-322e2853b5b1",
   "metadata": {},
   "outputs": [
    {
     "name": "stdout",
     "output_type": "stream",
     "text": [
      "1866310\n",
      "1481171\n",
      "1481171\n",
      "1481171\n"
     ]
    }
   ],
   "source": [
    "\n",
    "df = pd.read_csv('agg_ics.tsv', sep='\\t')\n",
    "\n",
    "# reannotate novel genes novelty\n",
    "df['gene_id'] = df.Name.str.split('_', n=1, expand=True)[0]\n",
    "# reannotate novel genes novelty\n",
    "# df.loc[df.Name.str.contains('novel'), 'novelty'] = 'Intergenic' # isoquant\n",
    "df.loc[df.gene_id=='NA', 'novelty'] = 'Intergenic' # espresso\n",
    "\n",
    "# get ic : sample info\n",
    "df['source'] = df.source.str.split(',')\n",
    "df = df[['Name', 'source', 'novelty']].explode('source')\n",
    "df['sample'] = df.source.str.split('_', expand=True)[0]\n",
    "\n",
    "# remove things from gencode\n",
    "print(len(df.index))\n",
    "df = df.loc[df.source!='47']\n",
    "print(len(df.index))\n",
    "\n",
    "# get population info\n",
    "meta = pd.read_csv(meta_file, sep='\\t')\n",
    "df = df.merge(meta[['sample', 'population']], how='left', on='sample')\n",
    "df.drop('source', axis=1, inplace=True)\n",
    "\n",
    "# remove duplicates that were detected in the tech reps of the same sample\n",
    "print(len(df.index))\n",
    "df.drop_duplicates(inplace=True)\n",
    "print(len(df.index))\n",
    "\n"
   ]
  },
  {
   "cell_type": "code",
   "execution_count": null,
   "id": "e8a371ff-8c24-42df-bd05-11387e30d198",
   "metadata": {},
   "outputs": [],
   "source": [
    "df.loc[df.novelty=='Intergenic']"
   ]
  },
  {
   "cell_type": "code",
   "execution_count": null,
   "id": "020e1d35-3712-441b-a001-4dc92ec54283",
   "metadata": {},
   "outputs": [],
   "source": [
    "# temp = df[['Name', 'source']].groupby('Name').nunique().reset_index().rename({'source':'n_tech_reps'}, axis=1)\n",
    "# temp.sort_values(by='n_tech_reps', ascending=False).head()"
   ]
  },
  {
   "cell_type": "code",
   "execution_count": 41,
   "id": "605a1d2a-3413-4b08-97e5-4d03e654689f",
   "metadata": {},
   "outputs": [
    {
     "data": {
      "text/html": [
       "<div>\n",
       "<style scoped>\n",
       "    .dataframe tbody tr th:only-of-type {\n",
       "        vertical-align: middle;\n",
       "    }\n",
       "\n",
       "    .dataframe tbody tr th {\n",
       "        vertical-align: top;\n",
       "    }\n",
       "\n",
       "    .dataframe thead th {\n",
       "        text-align: right;\n",
       "    }\n",
       "</style>\n",
       "<table border=\"1\" class=\"dataframe\">\n",
       "  <thead>\n",
       "    <tr style=\"text-align: right;\">\n",
       "      <th></th>\n",
       "      <th>Name</th>\n",
       "      <th>novelty</th>\n",
       "      <th>population</th>\n",
       "      <th>n_samples</th>\n",
       "    </tr>\n",
       "  </thead>\n",
       "  <tbody>\n",
       "    <tr>\n",
       "      <th>2</th>\n",
       "      <td>ENSG00000000003_1</td>\n",
       "      <td>Known</td>\n",
       "      <td>HAC</td>\n",
       "      <td>4</td>\n",
       "    </tr>\n",
       "    <tr>\n",
       "      <th>4</th>\n",
       "      <td>ENSG00000000003_1</td>\n",
       "      <td>Known</td>\n",
       "      <td>LWK</td>\n",
       "      <td>2</td>\n",
       "    </tr>\n",
       "    <tr>\n",
       "      <th>5</th>\n",
       "      <td>ENSG00000000003_1</td>\n",
       "      <td>Known</td>\n",
       "      <td>MPC</td>\n",
       "      <td>4</td>\n",
       "    </tr>\n",
       "    <tr>\n",
       "      <th>6</th>\n",
       "      <td>ENSG00000000003_1</td>\n",
       "      <td>Known</td>\n",
       "      <td>PEL</td>\n",
       "      <td>4</td>\n",
       "    </tr>\n",
       "    <tr>\n",
       "      <th>7</th>\n",
       "      <td>ENSG00000000003_1</td>\n",
       "      <td>Known</td>\n",
       "      <td>YRI</td>\n",
       "      <td>4</td>\n",
       "    </tr>\n",
       "    <tr>\n",
       "      <th>...</th>\n",
       "      <td>...</td>\n",
       "      <td>...</td>\n",
       "      <td>...</td>\n",
       "      <td>...</td>\n",
       "    </tr>\n",
       "    <tr>\n",
       "      <th>478269</th>\n",
       "      <td>NA_998</td>\n",
       "      <td>Intergenic</td>\n",
       "      <td>HAC</td>\n",
       "      <td>3</td>\n",
       "    </tr>\n",
       "    <tr>\n",
       "      <th>478270</th>\n",
       "      <td>NA_998</td>\n",
       "      <td>Intergenic</td>\n",
       "      <td>ITU</td>\n",
       "      <td>2</td>\n",
       "    </tr>\n",
       "    <tr>\n",
       "      <th>478272</th>\n",
       "      <td>NA_998</td>\n",
       "      <td>Intergenic</td>\n",
       "      <td>MPC</td>\n",
       "      <td>2</td>\n",
       "    </tr>\n",
       "    <tr>\n",
       "      <th>478273</th>\n",
       "      <td>NA_998</td>\n",
       "      <td>Intergenic</td>\n",
       "      <td>PEL</td>\n",
       "      <td>3</td>\n",
       "    </tr>\n",
       "    <tr>\n",
       "      <th>478274</th>\n",
       "      <td>NA_998</td>\n",
       "      <td>Intergenic</td>\n",
       "      <td>YRI</td>\n",
       "      <td>2</td>\n",
       "    </tr>\n",
       "  </tbody>\n",
       "</table>\n",
       "<p>319601 rows × 4 columns</p>\n",
       "</div>"
      ],
      "text/plain": [
       "                     Name     novelty population  n_samples\n",
       "2       ENSG00000000003_1       Known        HAC          4\n",
       "4       ENSG00000000003_1       Known        LWK          2\n",
       "5       ENSG00000000003_1       Known        MPC          4\n",
       "6       ENSG00000000003_1       Known        PEL          4\n",
       "7       ENSG00000000003_1       Known        YRI          4\n",
       "...                   ...         ...        ...        ...\n",
       "478269             NA_998  Intergenic        HAC          3\n",
       "478270             NA_998  Intergenic        ITU          2\n",
       "478272             NA_998  Intergenic        MPC          2\n",
       "478273             NA_998  Intergenic        PEL          3\n",
       "478274             NA_998  Intergenic        YRI          2\n",
       "\n",
       "[319601 rows x 4 columns]"
      ]
     },
     "execution_count": 41,
     "metadata": {},
     "output_type": "execute_result"
    }
   ],
   "source": [
    "# count of # samples in a population that have each IC\n",
    "temp = df.groupby(['Name', 'novelty', 'population']).nunique().reset_index().rename({'sample':'n_samples'}, axis=1)\n",
    "temp.loc[temp.n_samples>1]"
   ]
  },
  {
   "cell_type": "code",
   "execution_count": 42,
   "id": "55f37b54-213e-4e14-9dba-fa75758dad37",
   "metadata": {},
   "outputs": [],
   "source": [
    "# count of # of ICs that have n number of samples\n",
    "temp2 = temp.groupby(['n_samples', 'novelty', 'population']).nunique().reset_index().rename({'Name':'n_ics'}, axis=1)"
   ]
  },
  {
   "cell_type": "code",
   "execution_count": 43,
   "id": "d42d9783-9590-4d37-a07d-c5dacdded3da",
   "metadata": {},
   "outputs": [],
   "source": [
    "# make these plots, then adjust max values\n",
    "init_plot_settings(subplot_r=len(temp.population.unique()),\n",
    "                   subplot_c=len(temp.novelty.unique()))\n",
    "# temp2 = temp.loc[(temp.novelty=='ISM')&(temp.population=='AJI')]\n",
    "# g = sns.FacetGrid(temp, col='population', row='novelty')\n",
    "# g.map(sns.barplot, temp,\n",
    "#             'n_samples',\n",
    "#             'n_ics')\n",
    "#             # saturation=1,\n",
    "#             # col='population',\n",
    "#             # row='novelty',\n",
    "#             # hue='population',\n",
    "#             # palette=c_dict)\n",
    "# sns.catplot(temp2,\n",
    "#             kind='bar',\n",
    "#             x='n_samples',\n",
    "#             y='n_ics',\n",
    "#             saturation=1,\n",
    "#             col='population',\n",
    "#             row='novelty',\n",
    "#             sharey='row')"
   ]
  },
  {
   "cell_type": "code",
   "execution_count": 44,
   "id": "6a9c4206-1f47-4c9f-b236-d1f15e32677c",
   "metadata": {},
   "outputs": [
    {
     "data": {
      "text/plain": [
       "<seaborn.axisgrid.FacetGrid at 0x7f81c77e8310>"
      ]
     },
     "execution_count": 44,
     "metadata": {},
     "output_type": "execute_result"
    },
    {
     "data": {
      "image/png": "[encoded data removed]",
      "text/plain": [
       "<Figure size 2983.08x1800 with 40 Axes>"
      ]
     },
     "metadata": {
      "needs_background": "light"
     },
     "output_type": "display_data"
    }
   ],
   "source": [
    "\n",
    "c_dict, order = get_pop_colors()\n",
    "init_plot_settings(font_scale=3)\n",
    "g = sns.displot(temp,\n",
    "            kind='hist',\n",
    "            x='n_samples',\n",
    "            alpha=1,\n",
    "            discrete=True,\n",
    "            col='population',\n",
    "            row='novelty',\n",
    "            edgecolor=None,\n",
    "            hue='population',\n",
    "            palette=c_dict,\n",
    "            facet_kws=dict(sharey='row'))\n",
    "g.set_axis_labels('# samples', '# intron chains')\n",
    "g.set_titles('{row_name} in {col_name}')"
   ]
  },
  {
   "cell_type": "markdown",
   "id": "f885f927-df5b-44dc-912e-f3a0d61a7c15",
   "metadata": {},
   "source": [
    "## Global summary statistics of IC reproducibility per novelty cat"
   ]
  },
  {
   "cell_type": "code",
   "execution_count": 45,
   "id": "2cd09bd8-c834-4559-a223-d40d78a703e0",
   "metadata": {},
   "outputs": [],
   "source": [
    "c_dict, order = get_talon_nov_colors(cats=df.novelty.unique().tolist())"
   ]
  },
  {
   "cell_type": "code",
   "execution_count": 46,
   "id": "a9153407-7e81-4f2f-9dee-25eb64e0b3a4",
   "metadata": {},
   "outputs": [
    {
     "name": "stdout",
     "output_type": "stream",
     "text": [
      "1866310\n",
      "1481171\n",
      "1481171\n",
      "1481171\n"
     ]
    }
   ],
   "source": [
    "df = pd.read_csv('agg_ics.tsv', sep='\\t')\n",
    "\n",
    "# reannotate novel genes novelty\n",
    "df['gene_id'] = df.Name.str.split('_', n=1, expand=True)[0]\n",
    "# reannotate novel genes novelty\n",
    "# df.loc[df.Name.str.contains('novel'), 'novelty'] = 'Intergenic' # isoquant\n",
    "df.loc[df.gene_id=='NA', 'novelty'] = 'Intergenic' # espresso\n",
    "\n",
    "# df.loc[~df.source.str.contains('47')].novelty.unique()\n",
    "\n",
    "# # get only the novel transcripts\n",
    "# df = df.loc[~df.source.str.contains('47')]\n",
    "\n",
    "# get the transcripts that are expressed \n",
    "# df = df.loc[df.source.str.contains(',')]\n",
    "\n",
    "# get ic : sample info\n",
    "df['source'] = df.source.str.split(',')\n",
    "df = df[['Name', 'source', 'novelty']].explode('source')\n",
    "df['sample'] = df.source.str.split('_', expand=True)[0]\n",
    "\n",
    "# remove things from gencode\n",
    "print(len(df.index))\n",
    "df = df.loc[df.source!='47']\n",
    "print(len(df.index))\n",
    "\n",
    "# get population info\n",
    "meta = pd.read_csv(meta_file, sep='\\t')\n",
    "df = df.merge(meta[['sample', 'population']], how='left', on='sample')\n",
    "df.drop('source', axis=1, inplace=True)\n",
    "\n",
    "# remove duplicates that were detected in the tech reps of the same sample\n",
    "print(len(df.index))\n",
    "df.drop_duplicates(inplace=True)\n",
    "print(len(df.index))"
   ]
  },
  {
   "cell_type": "code",
   "execution_count": 47,
   "id": "b3b5133f-53bb-42f2-8640-d1771934aec7",
   "metadata": {},
   "outputs": [],
   "source": [
    "# get the number of samples each ic is in\n",
    "df = df[['Name', 'novelty', 'sample']].groupby(['Name', 'novelty']).nunique().rename({'sample':'n_samples'}, axis=1).reset_index()\n",
    "# df = df.groupby(['novelty', 'n_samples']).nunique().rename({'Name':'n_ics'}, axis=1).reset_index()"
   ]
  },
  {
   "cell_type": "code",
   "execution_count": 48,
   "id": "63dec9b0-a7b8-4135-9b51-05181ef316a4",
   "metadata": {},
   "outputs": [
    {
     "data": {
      "text/plain": [
       "<seaborn.axisgrid.FacetGrid at 0x7f82ab7f2190>"
      ]
     },
     "execution_count": 48,
     "metadata": {},
     "output_type": "execute_result"
    },
    {
     "data": {
      "image/png": "[encoded data removed]",
      "text/plain": [
       "<Figure size 1940.48x360 with 5 Axes>"
      ]
     },
     "metadata": {
      "needs_background": "light"
     },
     "output_type": "display_data"
    }
   ],
   "source": [
    "init_plot_settings(font_scale=2)\n",
    "g = sns.displot(df,\n",
    "            kind='hist',\n",
    "            x='n_samples',\n",
    "            alpha=1,\n",
    "            discrete=True,\n",
    "            col='novelty',\n",
    "            col_order=order,\n",
    "            hue_order=order,\n",
    "            edgecolor=None,\n",
    "            hue='novelty',\n",
    "            palette=c_dict,\n",
    "            facet_kws=dict(sharey='col'))\n",
    "g.set_axis_labels('# samples', '# intron chains')\n",
    "g.set_titles('{col_name}')"
   ]
  },
  {
   "cell_type": "code",
   "execution_count": 49,
   "id": "815a2920-5150-44d2-a5c1-98647bba2455",
   "metadata": {},
   "outputs": [
    {
     "data": {
      "image/png": "[encoded data removed]",
      "text/plain": [
       "<Figure size 360x360 with 1 Axes>"
      ]
     },
     "metadata": {
      "needs_background": "light"
     },
     "output_type": "display_data"
    }
   ],
   "source": [
    "# what % of each category is unique to one sample?\n",
    "temp = df.groupby(['novelty', 'n_samples']).nunique().rename({'Name':'n_ics'}, axis=1).reset_index()\n",
    "temp['multiple_samples'] = temp.n_samples>1\n",
    "temp = temp[['novelty', 'multiple_samples', 'n_ics']].groupby(['novelty', 'multiple_samples']).sum().reset_index()\n",
    "temp['total_ics'] = temp.groupby('novelty')['n_ics'].transform('sum')\n",
    "\n",
    "temp['perc'] = (temp.n_ics/temp.total_ics)*100\n",
    "\n",
    "temp = temp.loc[temp.multiple_samples==True]\n",
    "ax = sns.barplot(temp, x='novelty', palette=c_dict, order=order, y='perc', saturation=1)\n",
    "xlabel = 'IC novelty'\n",
    "ylabel = '% of ICs obs. in >1 sample'\n",
    "_ = ax.set(xlabel=xlabel, ylabel=ylabel, ylim=(0,100))\n",
    "ax.spines['right'].set_visible(False)\n",
    "ax.spines['top'].set_visible(False)"
   ]
  },
  {
   "cell_type": "code",
   "execution_count": 50,
   "id": "8564e74c-279c-4475-91d3-e5aedcba0e15",
   "metadata": {},
   "outputs": [
    {
     "data": {
      "image/png": "[encoded data removed]",
      "text/plain": [
       "<Figure size 360x360 with 1 Axes>"
      ]
     },
     "metadata": {
      "needs_background": "light"
     },
     "output_type": "display_data"
    }
   ],
   "source": [
    "# what % of each category is unique to one sample?\n",
    "temp = df.groupby(['novelty', 'n_samples']).nunique().rename({'Name':'n_ics'}, axis=1).reset_index()\n",
    "temp['multiple_samples'] = temp.n_samples>7\n",
    "temp = temp[['novelty', 'multiple_samples', 'n_ics']].groupby(['novelty', 'multiple_samples']).sum().reset_index()\n",
    "temp['total_ics'] = temp.groupby('novelty')['n_ics'].transform('sum')\n",
    "\n",
    "temp['perc'] = (temp.n_ics/temp.total_ics)*100\n",
    "\n",
    "temp = temp.loc[temp.multiple_samples==True]\n",
    "ax = sns.barplot(temp, x='novelty', palette=c_dict, order=order, y='perc', saturation=1)\n",
    "xlabel = 'IC novelty'\n",
    "ylabel = '% of ICs obs. in >7 sample'\n",
    "_ = ax.set(xlabel=xlabel, ylabel=ylabel, ylim=(0,100))\n",
    "ax.spines['right'].set_visible(False)\n",
    "ax.spines['top'].set_visible(False)"
   ]
  },
  {
   "cell_type": "code",
   "execution_count": 151,
   "id": "ff319fd1-185e-4ab2-aa3d-ee96a5e5ecbc",
   "metadata": {},
   "outputs": [
    {
     "name": "stdout",
     "output_type": "stream",
     "text": [
      "1145310\n",
      "760171\n",
      "760171\n",
      "736907\n"
     ]
    }
   ],
   "source": [
    "# do we have any unspliced things?\n",
    "df = pd.read_csv('agg_ics.tsv', sep='\\t')\n",
    "\n",
    "# reannotate novel genes novelty\n",
    "df.loc[df.Name.str.contains('novel'), 'novelty'] = 'Intergenic'\n",
    "\n",
    "df['monoexonic'] = df.Coordinates=='-'\n",
    "\n",
    "# df.loc[~df.source.str.contains('47')].novelty.unique()\n",
    "\n",
    "# # get only the novel transcripts\n",
    "# df = df.loc[~df.source.str.contains('47')]\n",
    "\n",
    "# get the transcripts that are expressed \n",
    "# df = df.loc[df.source.str.contains(',')]\n",
    "\n",
    "# get ic : sample info\n",
    "df['source'] = df.source.str.split(',')\n",
    "df = df[['Name', 'source', 'novelty', 'monoexonic']].explode('source')\n",
    "df['sample'] = df.source.str.split('_', expand=True)[0]\n",
    "\n",
    "# remove things from gencode\n",
    "print(len(df.index))\n",
    "df = df.loc[df.source!='47']\n",
    "print(len(df.index))\n",
    "\n",
    "# get population info\n",
    "meta = pd.read_csv('pantranscriptome_samples_metadata.tsv', sep='\\t')\n",
    "df = df.merge(meta[['sample', 'population']], how='left', on='sample')\n",
    "df.drop('source', axis=1, inplace=True)\n",
    "\n",
    "# remove duplicates that were detected in the tech reps of the same sample\n",
    "print(len(df.index))\n",
    "df.drop_duplicates(inplace=True)\n",
    "print(len(df.index))"
   ]
  },
  {
   "cell_type": "code",
   "execution_count": 154,
   "id": "29fa674c-080d-418b-ab6e-b94a7254c9dd",
   "metadata": {},
   "outputs": [
    {
     "data": {
      "text/html": [
       "<div>\n",
       "<style scoped>\n",
       "    .dataframe tbody tr th:only-of-type {\n",
       "        vertical-align: middle;\n",
       "    }\n",
       "\n",
       "    .dataframe tbody tr th {\n",
       "        vertical-align: top;\n",
       "    }\n",
       "\n",
       "    .dataframe thead th {\n",
       "        text-align: right;\n",
       "    }\n",
       "</style>\n",
       "<table border=\"1\" class=\"dataframe\">\n",
       "  <thead>\n",
       "    <tr style=\"text-align: right;\">\n",
       "      <th></th>\n",
       "      <th>novelty</th>\n",
       "      <th>monoexonic</th>\n",
       "      <th>n_ic</th>\n",
       "    </tr>\n",
       "  </thead>\n",
       "  <tbody>\n",
       "    <tr>\n",
       "      <th>0</th>\n",
       "      <td>ISM</td>\n",
       "      <td>False</td>\n",
       "      <td>889</td>\n",
       "    </tr>\n",
       "    <tr>\n",
       "      <th>1</th>\n",
       "      <td>Intergenic</td>\n",
       "      <td>False</td>\n",
       "      <td>20046</td>\n",
       "    </tr>\n",
       "    <tr>\n",
       "      <th>2</th>\n",
       "      <td>Known</td>\n",
       "      <td>False</td>\n",
       "      <td>64303</td>\n",
       "    </tr>\n",
       "    <tr>\n",
       "      <th>3</th>\n",
       "      <td>Known</td>\n",
       "      <td>True</td>\n",
       "      <td>1977</td>\n",
       "    </tr>\n",
       "    <tr>\n",
       "      <th>4</th>\n",
       "      <td>NIC</td>\n",
       "      <td>False</td>\n",
       "      <td>426</td>\n",
       "    </tr>\n",
       "    <tr>\n",
       "      <th>5</th>\n",
       "      <td>NNC</td>\n",
       "      <td>False</td>\n",
       "      <td>37650</td>\n",
       "    </tr>\n",
       "  </tbody>\n",
       "</table>\n",
       "</div>"
      ],
      "text/plain": [
       "      novelty  monoexonic   n_ic\n",
       "0         ISM       False    889\n",
       "1  Intergenic       False  20046\n",
       "2       Known       False  64303\n",
       "3       Known        True   1977\n",
       "4         NIC       False    426\n",
       "5         NNC       False  37650"
      ]
     },
     "execution_count": 154,
     "metadata": {},
     "output_type": "execute_result"
    }
   ],
   "source": [
    "df[['Name', 'monoexonic', 'novelty']].groupby(['novelty','monoexonic']).nunique().rename({'Name':'n_ic'}, axis=1).reset_index()"
   ]
  },
  {
   "cell_type": "code",
   "execution_count": 52,
   "id": "50a8a61a-9784-4d13-9058-87dca8be9eb7",
   "metadata": {},
   "outputs": [
    {
     "name": "stdout",
     "output_type": "stream",
     "text": [
      "1866310\n",
      "1481171\n",
      "1481171\n",
      "1481171\n"
     ]
    }
   ],
   "source": [
    "# how many ics of each novelty type?\n",
    "# do we have any unspliced things?\n",
    "df = pd.read_csv('agg_ics.tsv', sep='\\t')\n",
    "\n",
    "# reannotate novel genes novelty\n",
    "df['gene_id'] = df.Name.str.split('_', n=1, expand=True)[0]\n",
    "# reannotate novel genes novelty\n",
    "# df.loc[df.Name.str.contains('novel'), 'novelty'] = 'Intergenic' # isoquant\n",
    "df.loc[df.gene_id=='NA', 'novelty'] = 'Intergenic' # espresso\n",
    "\n",
    "df['monoexonic'] = df.Coordinates=='-'\n",
    "\n",
    "# df.loc[~df.source.str.contains('47')].novelty.unique()\n",
    "\n",
    "# # get only the novel transcripts\n",
    "# df = df.loc[~df.source.str.contains('47')]\n",
    "\n",
    "# get the transcripts that are expressed \n",
    "# df = df.loc[df.source.str.contains(',')]\n",
    "\n",
    "# get ic : sample info\n",
    "df['source'] = df.source.str.split(',')\n",
    "df = df[['Name', 'source', 'novelty', 'monoexonic']].explode('source')\n",
    "df['sample'] = df.source.str.split('_', expand=True)[0]\n",
    "\n",
    "# remove things from gencode\n",
    "print(len(df.index))\n",
    "df = df.loc[df.source!='47']\n",
    "print(len(df.index))\n",
    "\n",
    "# get population info\n",
    "meta = pd.read_csv(meta_file, sep='\\t')\n",
    "df = df.merge(meta[['sample', 'population']], how='left', on='sample')\n",
    "df.drop('source', axis=1, inplace=True)\n",
    "\n",
    "# remove duplicates that were detected in the tech reps of the same sample\n",
    "print(len(df.index))\n",
    "df.drop_duplicates(inplace=True)\n",
    "print(len(df.index))\n",
    "\n",
    "df = df[['Name', 'novelty']].groupby('novelty').nunique().rename({'Name':'n_ic'}, axis=1).reset_index()"
   ]
  },
  {
   "cell_type": "code",
   "execution_count": 54,
   "id": "4a1389f5-d7d7-4085-9abe-26ce9ee1a732",
   "metadata": {},
   "outputs": [
    {
     "data": {
      "image/png": "[encoded data removed]",
      "text/plain": [
       "<Figure size 360x360 with 1 Axes>"
      ]
     },
     "metadata": {
      "needs_background": "light"
     },
     "output_type": "display_data"
    }
   ],
   "source": [
    "c_dict, order = get_talon_nov_colors(cats=df.novelty.unique().tolist())\n",
    "init_plot_settings()\n",
    "ax = sns.barplot(df, x='novelty', palette=c_dict, y='n_ic', order=order, saturation=1)\n",
    "xlabel = ''\n",
    "ylabel = '# intron chains'\n",
    "_ = ax.set(xlabel=xlabel, ylabel=ylabel)\n",
    "ax.spines['right'].set_visible(False)\n",
    "ax.spines['top'].set_visible(False)"
   ]
  },
  {
   "cell_type": "code",
   "execution_count": 55,
   "id": "2a3773d6-819a-49c7-9d03-fb9acb357af2",
   "metadata": {},
   "outputs": [
    {
     "data": {
      "text/html": [
       "<div>\n",
       "<style scoped>\n",
       "    .dataframe tbody tr th:only-of-type {\n",
       "        vertical-align: middle;\n",
       "    }\n",
       "\n",
       "    .dataframe tbody tr th {\n",
       "        vertical-align: top;\n",
       "    }\n",
       "\n",
       "    .dataframe thead th {\n",
       "        text-align: right;\n",
       "    }\n",
       "</style>\n",
       "<table border=\"1\" class=\"dataframe\">\n",
       "  <thead>\n",
       "    <tr style=\"text-align: right;\">\n",
       "      <th></th>\n",
       "      <th>novelty</th>\n",
       "      <th>n_ic</th>\n",
       "    </tr>\n",
       "  </thead>\n",
       "  <tbody>\n",
       "    <tr>\n",
       "      <th>0</th>\n",
       "      <td>ISM</td>\n",
       "      <td>4079</td>\n",
       "    </tr>\n",
       "    <tr>\n",
       "      <th>1</th>\n",
       "      <td>Intergenic</td>\n",
       "      <td>10500</td>\n",
       "    </tr>\n",
       "    <tr>\n",
       "      <th>2</th>\n",
       "      <td>Known</td>\n",
       "      <td>89160</td>\n",
       "    </tr>\n",
       "    <tr>\n",
       "      <th>3</th>\n",
       "      <td>NIC</td>\n",
       "      <td>1470</td>\n",
       "    </tr>\n",
       "    <tr>\n",
       "      <th>4</th>\n",
       "      <td>NNC</td>\n",
       "      <td>3408</td>\n",
       "    </tr>\n",
       "  </tbody>\n",
       "</table>\n",
       "</div>"
      ],
      "text/plain": [
       "      novelty   n_ic\n",
       "0         ISM   4079\n",
       "1  Intergenic  10500\n",
       "2       Known  89160\n",
       "3         NIC   1470\n",
       "4         NNC   3408"
      ]
     },
     "execution_count": 55,
     "metadata": {},
     "output_type": "execute_result"
    }
   ],
   "source": [
    "df"
   ]
  },
  {
   "cell_type": "code",
   "execution_count": null,
   "id": "528e699e-c3f8-47f3-ab6d-93d6f14df896",
   "metadata": {},
   "outputs": [],
   "source": []
  }
 ],
 "metadata": {
  "kernelspec": {
   "display_name": "Python 3",
   "language": "python",
   "name": "python3"
  },
  "language_info": {
   "codemirror_mode": {
    "name": "ipython",
    "version": 3
   },
   "file_extension": ".py",
   "mimetype": "text/x-python",
   "name": "python",
   "nbconvert_exporter": "python",
   "pygments_lexer": "ipython3",
   "version": "3.7.12"
  }
 },
 "nbformat": 4,
 "nbformat_minor": 5
}
