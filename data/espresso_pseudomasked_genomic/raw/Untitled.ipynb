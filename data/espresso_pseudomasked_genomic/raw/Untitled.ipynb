{
 "cells": [
  {
   "cell_type": "code",
   "execution_count": null,
   "id": "d156be91-557b-45b1-8803-ce8b3f5d7692",
   "metadata": {},
   "outputs": [],
   "source": [
    "def make_hier_entry(df, how='t'):\n",
    "    \"\"\"\n",
    "    kind {'g','t'}\n",
    "    \"\"\"\n",
    "    agg_dict = {'min_coord': 'min', 'max_coord': 'max'}\n",
    "    t_df = df.copy(deep=True)\n",
    "    t_df['min_coord'] = t_df[['Start', 'End']].min(axis=1)\n",
    "    t_df['max_coord'] = t_df[['Start', 'End']].max(axis=1)\n",
    "    import pdb; pdb.set_trace()\n",
    "    if how == 't':\n",
    "        gb_cols = ['Chromosome', 'Strand', 'gene_name',\n",
    "                   'gene_id', 'transcript_id', 'transcript_name',\n",
    "                   'tss_id', 'tes_id',\n",
    "                   'new_transcript_id', 'original_transcript_id',\n",
    "                   'original_transcript_name', 'ag1', 'ag2']\n",
    "    elif how == 'g':\n",
    "        gb_cols = ['Chromosome', 'Strand', 'gene_name',\n",
    "                   'gene_id']\n",
    "    gb_cols = list(set(gb_cols)&(set(t_df.columns)))\n",
    "\n",
    "    cols = gb_cols + ['min_coord', 'max_coord']\n",
    "    t_df = t_df[cols]\n",
    "    t_df = t_df.groupby(gb_cols).agg(agg_dict).reset_index()\n",
    "    t_df.rename({'min_coord': 'Start', 'max_coord': 'End'}, axis=1, inplace=True)\n",
    "    if how == 't':\n",
    "        t_df['Feature'] = 'transcript'\n",
    "    elif how == 'g':\n",
    "        t_df['Feature'] = 'gene'\n",
    "\n",
    "    return t_df"
   ]
  }
 ],
 "metadata": {
  "kernelspec": {
   "display_name": "Python 3 (ipykernel)",
   "language": "python",
   "name": "python3"
  },
  "language_info": {
   "codemirror_mode": {
    "name": "ipython",
    "version": 3
   },
   "file_extension": ".py",
   "mimetype": "text/x-python",
   "name": "python",
   "nbconvert_exporter": "python",
   "pygments_lexer": "ipython3",
   "version": "3.9.9"
  }
 },
 "nbformat": 4,
 "nbformat_minor": 5
}
