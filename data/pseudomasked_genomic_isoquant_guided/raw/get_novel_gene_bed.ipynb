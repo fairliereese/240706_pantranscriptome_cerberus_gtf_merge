{
 "cells": [
  {
   "cell_type": "code",
   "execution_count": 1,
   "id": "b390de06-f5b7-4faf-8258-7fcbd0c4dad3",
   "metadata": {},
   "outputs": [],
   "source": [
    "import pandas as pd\n",
    "import pyranges as pr\n",
    "import seaborn as sns"
   ]
  },
  {
   "cell_type": "code",
   "execution_count": 2,
   "id": "fddb7b3e-27ff-4c3b-b60a-48d049dd39bb",
   "metadata": {},
   "outputs": [
    {
     "data": {
      "text/plain": [
       "'/Users/fairliereese/miniconda3/envs/cerberus_3/lib/python3.9/site-packages/pyranges/__init__.py'"
      ]
     },
     "execution_count": 2,
     "metadata": {},
     "output_type": "execute_result"
    }
   ],
   "source": [
    "pr.__file__"
   ]
  },
  {
   "cell_type": "code",
   "execution_count": 3,
   "id": "ddc365b5-e272-4af4-bcb5-9e4967610203",
   "metadata": {},
   "outputs": [
    {
     "data": {
      "text/plain": [
       "'0.1.2'"
      ]
     },
     "execution_count": 3,
     "metadata": {},
     "output_type": "execute_result"
    }
   ],
   "source": [
    "pr.__version__"
   ]
  },
  {
   "cell_type": "code",
   "execution_count": 9,
   "id": "16dd619e-2e22-4d6e-83e9-891ae777d4c7",
   "metadata": {},
   "outputs": [],
   "source": [
    "df = pr.read_gtf('2_PY2_GM10493.transcript_models.gtf').df"
   ]
  },
  {
   "cell_type": "code",
   "execution_count": 10,
   "id": "d4c2885f-81f1-4758-a1e0-acd626cefbc1",
   "metadata": {},
   "outputs": [],
   "source": [
    "# df = df.head(10)\n",
    "# df.rename({'gene_id':'Name'}, axis=1, inplace=True)\n",
    "# df['Score'] = '.'\n",
    "# df = df[['Chromosome', 'Start', 'End', 'Name', 'Score', 'Strand']]\n",
    "# df.to_csv('test.bed', header=None, index=False, sep='\\t')"
   ]
  },
  {
   "cell_type": "code",
   "execution_count": 11,
   "id": "183d86ea-962f-4e1f-8140-c843c0f52bf5",
   "metadata": {},
   "outputs": [],
   "source": [
    "# get just novel genes\n",
    "\n",
    "# for isoquant\n",
    "df = df.loc[(df.Feature=='gene')&\\\n",
    "            (df.gene_id.str.contains('novel_gene'))]\n",
    "\n",
    "# for espresso ?\n",
    "# ???\n",
    "df = df[['Chromosome', 'Source', 'Start', 'End', 'Strand', 'gene_id']]\n",
    "df.rename({'gene_id': 'Name'}, axis=1, inplace=True)"
   ]
  },
  {
   "cell_type": "code",
   "execution_count": 12,
   "id": "4888e43c-6c98-4597-9817-203bcfe1e150",
   "metadata": {},
   "outputs": [],
   "source": [
    "df = pr.PyRanges(df)\n",
    "df = df.merge(strand=True,\n",
    "              count=True,\n",
    "              count_col='n_genes',\n",
    "              slack=0)"
   ]
  },
  {
   "cell_type": "code",
   "execution_count": null,
   "id": "17e97c44-d271-40ae-b8dc-cc6a4e7e5c85",
   "metadata": {},
   "outputs": [],
   "source": [
    "df."
   ]
  },
  {
   "cell_type": "code",
   "execution_count": 17,
   "id": "4a544563-69b2-4e6e-819f-746f8324ba35",
   "metadata": {},
   "outputs": [
    {
     "data": {
      "text/html": [
       "<div>\n",
       "<style scoped>\n",
       "    .dataframe tbody tr th:only-of-type {\n",
       "        vertical-align: middle;\n",
       "    }\n",
       "\n",
       "    .dataframe tbody tr th {\n",
       "        vertical-align: top;\n",
       "    }\n",
       "\n",
       "    .dataframe thead th {\n",
       "        text-align: right;\n",
       "    }\n",
       "</style>\n",
       "<table border=\"1\" class=\"dataframe\">\n",
       "  <thead>\n",
       "    <tr style=\"text-align: right;\">\n",
       "      <th></th>\n",
       "      <th>Chromosome</th>\n",
       "      <th>Start</th>\n",
       "      <th>End</th>\n",
       "      <th>Strand</th>\n",
       "      <th>n_genes</th>\n",
       "    </tr>\n",
       "  </thead>\n",
       "  <tbody>\n",
       "    <tr>\n",
       "      <th>90</th>\n",
       "      <td>chr2</td>\n",
       "      <td>25362912</td>\n",
       "      <td>25385289</td>\n",
       "      <td>+</td>\n",
       "      <td>2</td>\n",
       "    </tr>\n",
       "    <tr>\n",
       "      <th>208</th>\n",
       "      <td>chr3</td>\n",
       "      <td>95393245</td>\n",
       "      <td>95407916</td>\n",
       "      <td>-</td>\n",
       "      <td>2</td>\n",
       "    </tr>\n",
       "    <tr>\n",
       "      <th>1024</th>\n",
       "      <td>chrX</td>\n",
       "      <td>149199530</td>\n",
       "      <td>149267231</td>\n",
       "      <td>+</td>\n",
       "      <td>2</td>\n",
       "    </tr>\n",
       "    <tr>\n",
       "      <th>115</th>\n",
       "      <td>chr2</td>\n",
       "      <td>230943742</td>\n",
       "      <td>230958090</td>\n",
       "      <td>+</td>\n",
       "      <td>2</td>\n",
       "    </tr>\n",
       "    <tr>\n",
       "      <th>891</th>\n",
       "      <td>chr18</td>\n",
       "      <td>72316801</td>\n",
       "      <td>72361057</td>\n",
       "      <td>-</td>\n",
       "      <td>2</td>\n",
       "    </tr>\n",
       "  </tbody>\n",
       "</table>\n",
       "</div>"
      ],
      "text/plain": [
       "     Chromosome      Start        End Strand  n_genes\n",
       "90         chr2   25362912   25385289      +        2\n",
       "208        chr3   95393245   95407916      -        2\n",
       "1024       chrX  149199530  149267231      +        2\n",
       "115        chr2  230943742  230958090      +        2\n",
       "891       chr18   72316801   72361057      -        2"
      ]
     },
     "execution_count": 17,
     "metadata": {},
     "output_type": "execute_result"
    }
   ],
   "source": [
    "df = df.df\n",
    "df.sort_values(by='n_genes', ascending=False).head()"
   ]
  },
  {
   "cell_type": "code",
   "execution_count": null,
   "id": "6532a41f-5d8c-478e-904a-e3f073784002",
   "metadata": {},
   "outputs": [],
   "source": [
    "# look at lens for each sample individually\n"
   ]
  }
 ],
 "metadata": {
  "kernelspec": {
   "display_name": "Python 3 (ipykernel)",
   "language": "python",
   "name": "python3"
  },
  "language_info": {
   "codemirror_mode": {
    "name": "ipython",
    "version": 3
   },
   "file_extension": ".py",
   "mimetype": "text/x-python",
   "name": "python",
   "nbconvert_exporter": "python",
   "pygments_lexer": "ipython3",
   "version": "3.9.9"
  }
 },
 "nbformat": 4,
 "nbformat_minor": 5
}
