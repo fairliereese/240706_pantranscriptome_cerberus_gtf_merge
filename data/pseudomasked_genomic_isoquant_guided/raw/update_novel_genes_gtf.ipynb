{
 "cells": [
  {
   "cell_type": "code",
   "execution_count": 1,
   "id": "a15d83a2-86d9-44a2-9d3b-dbe0e31514bd",
   "metadata": {},
   "outputs": [
    {
     "ename": "ModuleNotFoundError",
     "evalue": "No module named 'snakemake'",
     "output_type": "error",
     "traceback": [
      "\u001b[0;31m---------------------------------------------------------------------------\u001b[0m",
      "\u001b[0;31mModuleNotFoundError\u001b[0m                       Traceback (most recent call last)",
      "Cell \u001b[0;32mIn[1], line 6\u001b[0m\n\u001b[1;32m      4\u001b[0m \u001b[38;5;28;01mimport\u001b[39;00m \u001b[38;5;21;01mos\u001b[39;00m\n\u001b[1;32m      5\u001b[0m \u001b[38;5;28;01mimport\u001b[39;00m \u001b[38;5;21;01msys\u001b[39;00m\n\u001b[0;32m----> 6\u001b[0m \u001b[38;5;28;01mfrom\u001b[39;00m \u001b[38;5;21;01msnakemake\u001b[39;00m\u001b[38;5;21;01m.\u001b[39;00m\u001b[38;5;21;01mio\u001b[39;00m \u001b[38;5;28;01mimport\u001b[39;00m expand\n\u001b[1;32m      8\u001b[0m p \u001b[38;5;241m=\u001b[39m os\u001b[38;5;241m.\u001b[39mpath\u001b[38;5;241m.\u001b[39mdirname(os\u001b[38;5;241m.\u001b[39mpath\u001b[38;5;241m.\u001b[39mdirname(os\u001b[38;5;241m.\u001b[39mpath\u001b[38;5;241m.\u001b[39mdirname(os\u001b[38;5;241m.\u001b[39mgetcwd())))\u001b[38;5;241m+\u001b[39m\u001b[38;5;124m'\u001b[39m\u001b[38;5;124m/scripts/\u001b[39m\u001b[38;5;124m'\u001b[39m\n\u001b[1;32m      9\u001b[0m \u001b[38;5;28mprint\u001b[39m(p)\n",
      "\u001b[0;31mModuleNotFoundError\u001b[0m: No module named 'snakemake'"
     ]
    }
   ],
   "source": [
    "import pyranges as pr\n",
    "import seaborn as sns\n",
    "import yaml\n",
    "import os\n",
    "import sys\n",
    "from snakemake.io import expand\n",
    "\n",
    "p = os.path.dirname(os.path.dirname(os.path.dirname(os.getcwd())))+'/scripts/'\n",
    "print(p)\n",
    "sys.path.append(p)\n",
    "\n",
    "from sm_utils import *\n"
   ]
  },
  {
   "cell_type": "code",
   "execution_count": null,
   "id": "be28c062-aefa-48d5-8712-8bdf50260e38",
   "metadata": {},
   "outputs": [],
   "source": [
    "config = load_config()\n",
    "od = '../../../'"
   ]
  },
  {
   "cell_type": "code",
   "execution_count": null,
   "id": "d1b6b88d-2193-40d6-b650-0652e4beb13c",
   "metadata": {},
   "outputs": [],
   "source": [
    "analysis = 'pseudomasked_genomic_isoquant_guided'\n",
    "tool = 'iq'\n",
    "config_tsv = od+f'snakemake/config_{analysis}.tsv'\n",
    "df = parse_config(config_tsv)\n",
    "tech_rep = df.tech_rep.tolist()\n",
    "tech_rep = ['GM12878_1']"
   ]
  },
  {
   "cell_type": "code",
   "execution_count": null,
   "id": "fe7515a5-5cea-483a-818b-12dbe632ca07",
   "metadata": {},
   "outputs": [],
   "source": [
    "tech_rep"
   ]
  },
  {
   "cell_type": "code",
   "execution_count": null,
   "id": "278f5c14-8e3c-47e1-9c14-39a1ee89eb3d",
   "metadata": {},
   "outputs": [],
   "source": [
    "# reference bed\n",
    "bed = expand(od+config['fmt']['novel_gene_merge_bed'], \n",
    "       analysis=analysis)[0]\n",
    "df = pr.read_bed(bed)\n",
    "\n",
    "# sample gtf\n",
    "gtf = '../raw/2_PY2_GM10493.transcript_models.gtf'\n",
    "gtf_df = pr.read_gtf(gtf).df\n",
    "gtf_df.head()\n",
    "if tool == 'iq':\n",
    "    gtf_df = gtf_df.loc[(gtf_df.Feature=='gene')&\\\n",
    "                (gtf_df.gene_id.str.contains('novel_gene'))]"
   ]
  },
  {
   "cell_type": "code",
   "execution_count": null,
   "id": "e063f929-e515-4d83-ad9e-05007ba819a4",
   "metadata": {},
   "outputs": [],
   "source": [
    "# merge w/ bed\n",
    "gtf_df = pr.PyRanges(gtf_df)\n",
    "gtf_df = gtf_df.join(df,\n",
    "                      how='left',\n",
    "                      strandedness='same')\n",
    "gtf_df.head()\n",
    "                      "
   ]
  },
  {
   "cell_type": "code",
   "execution_count": null,
   "id": "9ca07dc6-2df2-4be2-9c81-ed13ecc87f46",
   "metadata": {},
   "outputs": [],
   "source": []
  }
 ],
 "metadata": {
  "kernelspec": {
   "display_name": "Python 3 (ipykernel)",
   "language": "python",
   "name": "python3"
  },
  "language_info": {
   "codemirror_mode": {
    "name": "ipython",
    "version": 3
   },
   "file_extension": ".py",
   "mimetype": "text/x-python",
   "name": "python",
   "nbconvert_exporter": "python",
   "pygments_lexer": "ipython3",
   "version": "3.9.9"
  }
 },
 "nbformat": 4,
 "nbformat_minor": 5
}
