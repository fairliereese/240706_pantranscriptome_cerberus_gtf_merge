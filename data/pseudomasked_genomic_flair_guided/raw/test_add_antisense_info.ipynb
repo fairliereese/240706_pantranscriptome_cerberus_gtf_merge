{
 "cells": [
  {
   "cell_type": "code",
   "execution_count": 1,
   "id": "e7e98a66-b499-428c-afb9-a174af6f26b7",
   "metadata": {},
   "outputs": [],
   "source": [
    "import pyranges as pr\n",
    "import seaborn as sns\n",
    "import cerberus"
   ]
  },
  {
   "cell_type": "code",
   "execution_count": 39,
   "id": "2856a24f-4d5a-444e-9c99-ef38e4dc3e59",
   "metadata": {},
   "outputs": [],
   "source": [
    "df = pr.read_gtf('45_EU5_GM12878.isoforms.gtf').df\n",
    "gtf_df = pr.read_gtf('45_EU5_GM12878.isoforms.gtf').df"
   ]
  },
  {
   "cell_type": "code",
   "execution_count": 38,
   "id": "34c4e11d-4f65-4035-9fa3-f9f973cb1a2e",
   "metadata": {},
   "outputs": [],
   "source": [
    "ref = '/Users/fairliereese/Documents/programming/mortazavi_lab/ref/gencode.v40/gencode.v40.annotation.gtf'\n",
    "ref_df = pr.read_gtf(ref).df"
   ]
  },
  {
   "cell_type": "code",
   "execution_count": 40,
   "id": "d33f0fee-78cf-49b8-a1c7-b02a5dc98d1a",
   "metadata": {},
   "outputs": [],
   "source": [
    "df = df[['gene_id', 'transcript_id', 'Strand']].drop_duplicates()"
   ]
  },
  {
   "cell_type": "code",
   "execution_count": 41,
   "id": "5ce4a276-5305-4957-8537-a54879fab3ad",
   "metadata": {},
   "outputs": [],
   "source": [
    "df['gid_stable'] = cerberus.get_stable_gid(df, 'gene_id')"
   ]
  },
  {
   "cell_type": "code",
   "execution_count": 42,
   "id": "fded1600-c886-4d8d-982f-101c7c8bd8ea",
   "metadata": {},
   "outputs": [],
   "source": [
    "ref_df = ref_df[['gene_id', 'Strand']].drop_duplicates()"
   ]
  },
  {
   "cell_type": "code",
   "execution_count": 43,
   "id": "b8770add-85b0-4e22-9174-14f770a12863",
   "metadata": {},
   "outputs": [],
   "source": []
  },
  {
   "cell_type": "code",
   "execution_count": 44,
   "id": "c2808274-a1cd-4460-8dcd-5a34b97c9418",
   "metadata": {},
   "outputs": [
    {
     "data": {
      "text/html": [
       "<div>\n",
       "<style scoped>\n",
       "    .dataframe tbody tr th:only-of-type {\n",
       "        vertical-align: middle;\n",
       "    }\n",
       "\n",
       "    .dataframe tbody tr th {\n",
       "        vertical-align: top;\n",
       "    }\n",
       "\n",
       "    .dataframe thead th {\n",
       "        text-align: right;\n",
       "    }\n",
       "</style>\n",
       "<table border=\"1\" class=\"dataframe\">\n",
       "  <thead>\n",
       "    <tr style=\"text-align: right;\">\n",
       "      <th></th>\n",
       "      <th>gene_id</th>\n",
       "      <th>Strand</th>\n",
       "      <th>gid_stable</th>\n",
       "    </tr>\n",
       "  </thead>\n",
       "  <tbody>\n",
       "    <tr>\n",
       "      <th>0</th>\n",
       "      <td>ENSG00000223972.5</td>\n",
       "      <td>+</td>\n",
       "      <td>ENSG00000223972</td>\n",
       "    </tr>\n",
       "    <tr>\n",
       "      <th>12</th>\n",
       "      <td>ENSG00000243485.5</td>\n",
       "      <td>+</td>\n",
       "      <td>ENSG00000243485</td>\n",
       "    </tr>\n",
       "    <tr>\n",
       "      <th>20</th>\n",
       "      <td>ENSG00000284332.1</td>\n",
       "      <td>+</td>\n",
       "      <td>ENSG00000284332</td>\n",
       "    </tr>\n",
       "    <tr>\n",
       "      <th>23</th>\n",
       "      <td>ENSG00000268020.3</td>\n",
       "      <td>+</td>\n",
       "      <td>ENSG00000268020</td>\n",
       "    </tr>\n",
       "    <tr>\n",
       "      <th>26</th>\n",
       "      <td>ENSG00000240361.2</td>\n",
       "      <td>+</td>\n",
       "      <td>ENSG00000240361</td>\n",
       "    </tr>\n",
       "  </tbody>\n",
       "</table>\n",
       "</div>"
      ],
      "text/plain": [
       "              gene_id Strand       gid_stable\n",
       "0   ENSG00000223972.5      +  ENSG00000223972\n",
       "12  ENSG00000243485.5      +  ENSG00000243485\n",
       "20  ENSG00000284332.1      +  ENSG00000284332\n",
       "23  ENSG00000268020.3      +  ENSG00000268020\n",
       "26  ENSG00000240361.2      +  ENSG00000240361"
      ]
     },
     "execution_count": 44,
     "metadata": {},
     "output_type": "execute_result"
    }
   ],
   "source": [
    "ref_df.head()"
   ]
  },
  {
   "cell_type": "code",
   "execution_count": 45,
   "id": "6dbaee96-5fca-475a-88e1-717476cfaff1",
   "metadata": {},
   "outputs": [
    {
     "data": {
      "text/html": [
       "<div>\n",
       "<style scoped>\n",
       "    .dataframe tbody tr th:only-of-type {\n",
       "        vertical-align: middle;\n",
       "    }\n",
       "\n",
       "    .dataframe tbody tr th {\n",
       "        vertical-align: top;\n",
       "    }\n",
       "\n",
       "    .dataframe thead th {\n",
       "        text-align: right;\n",
       "    }\n",
       "</style>\n",
       "<table border=\"1\" class=\"dataframe\">\n",
       "  <thead>\n",
       "    <tr style=\"text-align: right;\">\n",
       "      <th></th>\n",
       "      <th>gid_stable</th>\n",
       "      <th>Strand</th>\n",
       "    </tr>\n",
       "  </thead>\n",
       "  <tbody>\n",
       "    <tr>\n",
       "      <th>0</th>\n",
       "      <td>ENSG00000223972</td>\n",
       "      <td>+</td>\n",
       "    </tr>\n",
       "    <tr>\n",
       "      <th>12</th>\n",
       "      <td>ENSG00000243485</td>\n",
       "      <td>+</td>\n",
       "    </tr>\n",
       "    <tr>\n",
       "      <th>20</th>\n",
       "      <td>ENSG00000284332</td>\n",
       "      <td>+</td>\n",
       "    </tr>\n",
       "    <tr>\n",
       "      <th>23</th>\n",
       "      <td>ENSG00000268020</td>\n",
       "      <td>+</td>\n",
       "    </tr>\n",
       "    <tr>\n",
       "      <th>26</th>\n",
       "      <td>ENSG00000240361</td>\n",
       "      <td>+</td>\n",
       "    </tr>\n",
       "  </tbody>\n",
       "</table>\n",
       "</div>"
      ],
      "text/plain": [
       "         gid_stable Strand\n",
       "0   ENSG00000223972      +\n",
       "12  ENSG00000243485      +\n",
       "20  ENSG00000284332      +\n",
       "23  ENSG00000268020      +\n",
       "26  ENSG00000240361      +"
      ]
     },
     "execution_count": 45,
     "metadata": {},
     "output_type": "execute_result"
    }
   ],
   "source": [
    "ref_df = ref_df[['gid_stable', 'Strand']]\n",
    "ref_df.head()"
   ]
  },
  {
   "cell_type": "code",
   "execution_count": 46,
   "id": "167acc7c-8359-4d26-9779-223043074793",
   "metadata": {},
   "outputs": [],
   "source": [
    "# merge w/ reference to figure out which transcripts are antisense\n",
    "df = df.merge(ref_df,\n",
    "              how='left',\n",
    "              on='gid_stable',\n",
    "              suffixes=('', '_ref'))"
   ]
  },
  {
   "cell_type": "code",
   "execution_count": 47,
   "id": "a6b8d74e-98e7-4331-a12b-3a7b3e9c1558",
   "metadata": {},
   "outputs": [
    {
     "data": {
      "text/html": [
       "<div>\n",
       "<style scoped>\n",
       "    .dataframe tbody tr th:only-of-type {\n",
       "        vertical-align: middle;\n",
       "    }\n",
       "\n",
       "    .dataframe tbody tr th {\n",
       "        vertical-align: top;\n",
       "    }\n",
       "\n",
       "    .dataframe thead th {\n",
       "        text-align: right;\n",
       "    }\n",
       "</style>\n",
       "<table border=\"1\" class=\"dataframe\">\n",
       "  <thead>\n",
       "    <tr style=\"text-align: right;\">\n",
       "      <th></th>\n",
       "      <th>gene_id</th>\n",
       "      <th>transcript_id</th>\n",
       "      <th>Strand</th>\n",
       "      <th>gid_stable</th>\n",
       "      <th>Strand_ref</th>\n",
       "    </tr>\n",
       "  </thead>\n",
       "  <tbody>\n",
       "    <tr>\n",
       "      <th>2778</th>\n",
       "      <td>ENSG00000290127.2</td>\n",
       "      <td>8e8ddb4c-21fc-48ce-86a7-3efd6499d489:0-0</td>\n",
       "      <td>-</td>\n",
       "      <td>ENSG00000290127</td>\n",
       "      <td>NaN</td>\n",
       "    </tr>\n",
       "  </tbody>\n",
       "</table>\n",
       "</div>"
      ],
      "text/plain": [
       "                gene_id                             transcript_id Strand  \\\n",
       "2778  ENSG00000290127.2  8e8ddb4c-21fc-48ce-86a7-3efd6499d489:0-0      -   \n",
       "\n",
       "           gid_stable Strand_ref  \n",
       "2778  ENSG00000290127        NaN  "
      ]
     },
     "execution_count": 47,
     "metadata": {},
     "output_type": "execute_result"
    }
   ],
   "source": [
    "df.loc[df.transcript_id=='8e8ddb4c-21fc-48ce-86a7-3efd6499d489:0-0']"
   ]
  },
  {
   "cell_type": "code",
   "execution_count": 23,
   "id": "ce623a04-55d5-4a18-bd9a-3ed8ae6a81e8",
   "metadata": {},
   "outputs": [],
   "source": [
    "df = df.loc[df.Strand!=df.Strand_ref]"
   ]
  },
  {
   "cell_type": "code",
   "execution_count": 24,
   "id": "64362093-4ef3-448a-9b63-1c2f74395551",
   "metadata": {},
   "outputs": [
    {
     "data": {
      "text/html": [
       "<div>\n",
       "<style scoped>\n",
       "    .dataframe tbody tr th:only-of-type {\n",
       "        vertical-align: middle;\n",
       "    }\n",
       "\n",
       "    .dataframe tbody tr th {\n",
       "        vertical-align: top;\n",
       "    }\n",
       "\n",
       "    .dataframe thead th {\n",
       "        text-align: right;\n",
       "    }\n",
       "</style>\n",
       "<table border=\"1\" class=\"dataframe\">\n",
       "  <thead>\n",
       "    <tr style=\"text-align: right;\">\n",
       "      <th></th>\n",
       "      <th>gene_id</th>\n",
       "      <th>transcript_id</th>\n",
       "      <th>Strand</th>\n",
       "      <th>gid_stable</th>\n",
       "      <th>Strand_ref</th>\n",
       "    </tr>\n",
       "  </thead>\n",
       "  <tbody>\n",
       "    <tr>\n",
       "      <th>577</th>\n",
       "      <td>ENSG00000288859.1</td>\n",
       "      <td>4e4111a9-9f7a-4526-9b30-75ae187cf1d6:0-0</td>\n",
       "      <td>-</td>\n",
       "      <td>ENSG00000288859</td>\n",
       "      <td>+</td>\n",
       "    </tr>\n",
       "    <tr>\n",
       "      <th>2316</th>\n",
       "      <td>ENSG00000272654.3</td>\n",
       "      <td>624ce7de-b726-4ba0-a4a1-960b8b8d46bf:0-0</td>\n",
       "      <td>-</td>\n",
       "      <td>ENSG00000272654</td>\n",
       "      <td>+</td>\n",
       "    </tr>\n",
       "    <tr>\n",
       "      <th>3263</th>\n",
       "      <td>ENSG00000179833.4</td>\n",
       "      <td>62d10d43-45ed-4e77-aa80-3d2e26bb0c95:0-0</td>\n",
       "      <td>+</td>\n",
       "      <td>ENSG00000179833</td>\n",
       "      <td>-</td>\n",
       "    </tr>\n",
       "    <tr>\n",
       "      <th>7163</th>\n",
       "      <td>ENSG00000279799.1</td>\n",
       "      <td>e3b610c8-2d47-4071-969d-1e821c925426:0-0</td>\n",
       "      <td>-</td>\n",
       "      <td>ENSG00000279799</td>\n",
       "      <td>+</td>\n",
       "    </tr>\n",
       "    <tr>\n",
       "      <th>7316</th>\n",
       "      <td>ENSG00000277075.4</td>\n",
       "      <td>c313ce47-4f03-4a54-a966-6709cb4d1c00:0-0</td>\n",
       "      <td>-</td>\n",
       "      <td>ENSG00000277075</td>\n",
       "      <td>+</td>\n",
       "    </tr>\n",
       "  </tbody>\n",
       "</table>\n",
       "</div>"
      ],
      "text/plain": [
       "                gene_id                             transcript_id Strand  \\\n",
       "577   ENSG00000288859.1  4e4111a9-9f7a-4526-9b30-75ae187cf1d6:0-0      -   \n",
       "2316  ENSG00000272654.3  624ce7de-b726-4ba0-a4a1-960b8b8d46bf:0-0      -   \n",
       "3263  ENSG00000179833.4  62d10d43-45ed-4e77-aa80-3d2e26bb0c95:0-0      +   \n",
       "7163  ENSG00000279799.1  e3b610c8-2d47-4071-969d-1e821c925426:0-0      -   \n",
       "7316  ENSG00000277075.4  c313ce47-4f03-4a54-a966-6709cb4d1c00:0-0      -   \n",
       "\n",
       "           gid_stable Strand_ref  \n",
       "577   ENSG00000288859          +  \n",
       "2316  ENSG00000272654          +  \n",
       "3263  ENSG00000179833          -  \n",
       "7163  ENSG00000279799          +  \n",
       "7316  ENSG00000277075          +  "
      ]
     },
     "execution_count": 24,
     "metadata": {},
     "output_type": "execute_result"
    }
   ],
   "source": [
    "df.head()"
   ]
  },
  {
   "cell_type": "code",
   "execution_count": 25,
   "id": "fcd80402-1317-4670-889e-d392ca0187d7",
   "metadata": {},
   "outputs": [],
   "source": []
  },
  {
   "cell_type": "code",
   "execution_count": 26,
   "id": "86155ff8-3cce-41f0-b814-c2bed9cc8d87",
   "metadata": {},
   "outputs": [],
   "source": [
    "tids = df.transcript_id.unique().tolist()\n",
    "inds = gtf_df.loc[gtf_df.transcript_id.isin(tids)].index\n",
    "gtf_df.loc[inds, 'gene_id'] = 'novel_gene_antisense_'+gtf_df.loc[inds, 'gene_id']\n"
   ]
  },
  {
   "cell_type": "code",
   "execution_count": 32,
   "id": "6d90bd7a-d89e-4809-9ce2-ebfe1ca527aa",
   "metadata": {},
   "outputs": [
    {
     "data": {
      "text/html": [
       "<div>\n",
       "<style scoped>\n",
       "    .dataframe tbody tr th:only-of-type {\n",
       "        vertical-align: middle;\n",
       "    }\n",
       "\n",
       "    .dataframe tbody tr th {\n",
       "        vertical-align: top;\n",
       "    }\n",
       "\n",
       "    .dataframe thead th {\n",
       "        text-align: right;\n",
       "    }\n",
       "</style>\n",
       "<table border=\"1\" class=\"dataframe\">\n",
       "  <thead>\n",
       "    <tr style=\"text-align: right;\">\n",
       "      <th></th>\n",
       "      <th>Chromosome</th>\n",
       "      <th>Source</th>\n",
       "      <th>Feature</th>\n",
       "      <th>Start</th>\n",
       "      <th>End</th>\n",
       "      <th>Score</th>\n",
       "      <th>Strand</th>\n",
       "      <th>Frame</th>\n",
       "      <th>gene_id</th>\n",
       "      <th>transcript_id</th>\n",
       "      <th>exon_number</th>\n",
       "    </tr>\n",
       "  </thead>\n",
       "  <tbody>\n",
       "    <tr>\n",
       "      <th>14943</th>\n",
       "      <td>chr1</td>\n",
       "      <td>FLAIR</td>\n",
       "      <td>transcript</td>\n",
       "      <td>149851060</td>\n",
       "      <td>149851863</td>\n",
       "      <td>.</td>\n",
       "      <td>-</td>\n",
       "      <td>.</td>\n",
       "      <td>novel_gene_antisense_ENSG00000288859.1</td>\n",
       "      <td>4e4111a9-9f7a-4526-9b30-75ae187cf1d6:0-0</td>\n",
       "      <td>NaN</td>\n",
       "    </tr>\n",
       "    <tr>\n",
       "      <th>14944</th>\n",
       "      <td>chr1</td>\n",
       "      <td>FLAIR</td>\n",
       "      <td>exon</td>\n",
       "      <td>149851060</td>\n",
       "      <td>149851863</td>\n",
       "      <td>.</td>\n",
       "      <td>-</td>\n",
       "      <td>.</td>\n",
       "      <td>novel_gene_antisense_ENSG00000288859.1</td>\n",
       "      <td>4e4111a9-9f7a-4526-9b30-75ae187cf1d6:0-0</td>\n",
       "      <td>0</td>\n",
       "    </tr>\n",
       "    <tr>\n",
       "      <th>14985</th>\n",
       "      <td>chr1</td>\n",
       "      <td>FLAIR</td>\n",
       "      <td>transcript</td>\n",
       "      <td>153977682</td>\n",
       "      <td>153978908</td>\n",
       "      <td>.</td>\n",
       "      <td>-</td>\n",
       "      <td>.</td>\n",
       "      <td>novel_gene_antisense_ENSG00000272654.3</td>\n",
       "      <td>624ce7de-b726-4ba0-a4a1-960b8b8d46bf:0-0</td>\n",
       "      <td>NaN</td>\n",
       "    </tr>\n",
       "    <tr>\n",
       "      <th>14986</th>\n",
       "      <td>chr1</td>\n",
       "      <td>FLAIR</td>\n",
       "      <td>exon</td>\n",
       "      <td>153977682</td>\n",
       "      <td>153978908</td>\n",
       "      <td>.</td>\n",
       "      <td>-</td>\n",
       "      <td>.</td>\n",
       "      <td>novel_gene_antisense_ENSG00000272654.3</td>\n",
       "      <td>624ce7de-b726-4ba0-a4a1-960b8b8d46bf:0-0</td>\n",
       "      <td>0</td>\n",
       "    </tr>\n",
       "    <tr>\n",
       "      <th>23620</th>\n",
       "      <td>chr2</td>\n",
       "      <td>FLAIR</td>\n",
       "      <td>transcript</td>\n",
       "      <td>64750577</td>\n",
       "      <td>64750895</td>\n",
       "      <td>.</td>\n",
       "      <td>+</td>\n",
       "      <td>.</td>\n",
       "      <td>novel_gene_antisense_ENSG00000179833.4</td>\n",
       "      <td>62d10d43-45ed-4e77-aa80-3d2e26bb0c95:0-0</td>\n",
       "      <td>NaN</td>\n",
       "    </tr>\n",
       "  </tbody>\n",
       "</table>\n",
       "</div>"
      ],
      "text/plain": [
       "      Chromosome Source     Feature      Start        End Score Strand Frame  \\\n",
       "14943       chr1  FLAIR  transcript  149851060  149851863     .      -     .   \n",
       "14944       chr1  FLAIR        exon  149851060  149851863     .      -     .   \n",
       "14985       chr1  FLAIR  transcript  153977682  153978908     .      -     .   \n",
       "14986       chr1  FLAIR        exon  153977682  153978908     .      -     .   \n",
       "23620       chr2  FLAIR  transcript   64750577   64750895     .      +     .   \n",
       "\n",
       "                                      gene_id  \\\n",
       "14943  novel_gene_antisense_ENSG00000288859.1   \n",
       "14944  novel_gene_antisense_ENSG00000288859.1   \n",
       "14985  novel_gene_antisense_ENSG00000272654.3   \n",
       "14986  novel_gene_antisense_ENSG00000272654.3   \n",
       "23620  novel_gene_antisense_ENSG00000179833.4   \n",
       "\n",
       "                                  transcript_id exon_number  \n",
       "14943  4e4111a9-9f7a-4526-9b30-75ae187cf1d6:0-0         NaN  \n",
       "14944  4e4111a9-9f7a-4526-9b30-75ae187cf1d6:0-0           0  \n",
       "14985  624ce7de-b726-4ba0-a4a1-960b8b8d46bf:0-0         NaN  \n",
       "14986  624ce7de-b726-4ba0-a4a1-960b8b8d46bf:0-0           0  \n",
       "23620  62d10d43-45ed-4e77-aa80-3d2e26bb0c95:0-0         NaN  "
      ]
     },
     "execution_count": 32,
     "metadata": {},
     "output_type": "execute_result"
    }
   ],
   "source": [
    "gtf_df.loc[inds].head()"
   ]
  },
  {
   "cell_type": "code",
   "execution_count": 27,
   "id": "c9e325ab-09c9-4af3-825a-595ca561cf2d",
   "metadata": {},
   "outputs": [
    {
     "data": {
      "text/plain": [
       "18274"
      ]
     },
     "execution_count": 27,
     "metadata": {},
     "output_type": "execute_result"
    }
   ],
   "source": [
    "len(gtf_df.gene_id.unique())"
   ]
  },
  {
   "cell_type": "code",
   "execution_count": 28,
   "id": "5d16d189-4483-49b1-b52f-7e51cd595f2b",
   "metadata": {},
   "outputs": [
    {
     "data": {
      "text/plain": [
       "18420"
      ]
     },
     "execution_count": 28,
     "metadata": {},
     "output_type": "execute_result"
    }
   ],
   "source": [
    "len(gtf_df[['Strand', 'gene_id']].drop_duplicates())"
   ]
  },
  {
   "cell_type": "code",
   "execution_count": 33,
   "id": "29d04544-dc13-4418-a96e-af24987831db",
   "metadata": {},
   "outputs": [
    {
     "data": {
      "text/html": [
       "<div>\n",
       "<style scoped>\n",
       "    .dataframe tbody tr th:only-of-type {\n",
       "        vertical-align: middle;\n",
       "    }\n",
       "\n",
       "    .dataframe tbody tr th {\n",
       "        vertical-align: top;\n",
       "    }\n",
       "\n",
       "    .dataframe thead th {\n",
       "        text-align: right;\n",
       "    }\n",
       "</style>\n",
       "<table border=\"1\" class=\"dataframe\">\n",
       "  <thead>\n",
       "    <tr style=\"text-align: right;\">\n",
       "      <th></th>\n",
       "      <th>Strand</th>\n",
       "      <th>gene_id</th>\n",
       "    </tr>\n",
       "  </thead>\n",
       "  <tbody>\n",
       "    <tr>\n",
       "      <th>3609</th>\n",
       "      <td>+</td>\n",
       "      <td>ENSG00000290127.2</td>\n",
       "    </tr>\n",
       "    <tr>\n",
       "      <th>15155</th>\n",
       "      <td>-</td>\n",
       "      <td>ENSG00000290127.2</td>\n",
       "    </tr>\n",
       "    <tr>\n",
       "      <th>11764</th>\n",
       "      <td>-</td>\n",
       "      <td>ENSG00000291233.2</td>\n",
       "    </tr>\n",
       "    <tr>\n",
       "      <th>4705</th>\n",
       "      <td>+</td>\n",
       "      <td>ENSG00000291233.2</td>\n",
       "    </tr>\n",
       "    <tr>\n",
       "      <th>90963</th>\n",
       "      <td>+</td>\n",
       "      <td>chr10:101060000</td>\n",
       "    </tr>\n",
       "  </tbody>\n",
       "</table>\n",
       "</div>"
      ],
      "text/plain": [
       "      Strand            gene_id\n",
       "3609       +  ENSG00000290127.2\n",
       "15155      -  ENSG00000290127.2\n",
       "11764      -  ENSG00000291233.2\n",
       "4705       +  ENSG00000291233.2\n",
       "90963      +    chr10:101060000"
      ]
     },
     "execution_count": 33,
     "metadata": {},
     "output_type": "execute_result"
    }
   ],
   "source": [
    "temp = gtf_df[['Strand', 'gene_id']].drop_duplicates()\n",
    "temp.loc[temp.gene_id.duplicated(keep=False)].sort_values(by='gene_id').head()"
   ]
  },
  {
   "cell_type": "code",
   "execution_count": 35,
   "id": "1e3689cc-08b6-4204-aa7f-ddf2ad214163",
   "metadata": {},
   "outputs": [
    {
     "data": {
      "text/html": [
       "<div>\n",
       "<style scoped>\n",
       "    .dataframe tbody tr th:only-of-type {\n",
       "        vertical-align: middle;\n",
       "    }\n",
       "\n",
       "    .dataframe tbody tr th {\n",
       "        vertical-align: top;\n",
       "    }\n",
       "\n",
       "    .dataframe thead th {\n",
       "        text-align: right;\n",
       "    }\n",
       "</style>\n",
       "<table border=\"1\" class=\"dataframe\">\n",
       "  <thead>\n",
       "    <tr style=\"text-align: right;\">\n",
       "      <th></th>\n",
       "      <th>Chromosome</th>\n",
       "      <th>Source</th>\n",
       "      <th>Feature</th>\n",
       "      <th>Start</th>\n",
       "      <th>End</th>\n",
       "      <th>Score</th>\n",
       "      <th>Strand</th>\n",
       "      <th>Frame</th>\n",
       "      <th>gene_id</th>\n",
       "      <th>transcript_id</th>\n",
       "      <th>exon_number</th>\n",
       "    </tr>\n",
       "  </thead>\n",
       "  <tbody>\n",
       "    <tr>\n",
       "      <th>3609</th>\n",
       "      <td>chr1</td>\n",
       "      <td>FLAIR</td>\n",
       "      <td>transcript</td>\n",
       "      <td>197201480</td>\n",
       "      <td>197202322</td>\n",
       "      <td>.</td>\n",
       "      <td>+</td>\n",
       "      <td>.</td>\n",
       "      <td>ENSG00000290127.2</td>\n",
       "      <td>ENST00000843833.1</td>\n",
       "      <td>NaN</td>\n",
       "    </tr>\n",
       "    <tr>\n",
       "      <th>3610</th>\n",
       "      <td>chr1</td>\n",
       "      <td>FLAIR</td>\n",
       "      <td>exon</td>\n",
       "      <td>197201480</td>\n",
       "      <td>197201588</td>\n",
       "      <td>.</td>\n",
       "      <td>+</td>\n",
       "      <td>.</td>\n",
       "      <td>ENSG00000290127.2</td>\n",
       "      <td>ENST00000843833.1</td>\n",
       "      <td>0</td>\n",
       "    </tr>\n",
       "    <tr>\n",
       "      <th>3611</th>\n",
       "      <td>chr1</td>\n",
       "      <td>FLAIR</td>\n",
       "      <td>exon</td>\n",
       "      <td>197202188</td>\n",
       "      <td>197202322</td>\n",
       "      <td>.</td>\n",
       "      <td>+</td>\n",
       "      <td>.</td>\n",
       "      <td>ENSG00000290127.2</td>\n",
       "      <td>ENST00000843833.1</td>\n",
       "      <td>1</td>\n",
       "    </tr>\n",
       "    <tr>\n",
       "      <th>15155</th>\n",
       "      <td>chr1</td>\n",
       "      <td>FLAIR</td>\n",
       "      <td>transcript</td>\n",
       "      <td>197201505</td>\n",
       "      <td>197202322</td>\n",
       "      <td>.</td>\n",
       "      <td>-</td>\n",
       "      <td>.</td>\n",
       "      <td>ENSG00000290127.2</td>\n",
       "      <td>8e8ddb4c-21fc-48ce-86a7-3efd6499d489:0-0</td>\n",
       "      <td>NaN</td>\n",
       "    </tr>\n",
       "    <tr>\n",
       "      <th>15156</th>\n",
       "      <td>chr1</td>\n",
       "      <td>FLAIR</td>\n",
       "      <td>exon</td>\n",
       "      <td>197201505</td>\n",
       "      <td>197202322</td>\n",
       "      <td>.</td>\n",
       "      <td>-</td>\n",
       "      <td>.</td>\n",
       "      <td>ENSG00000290127.2</td>\n",
       "      <td>8e8ddb4c-21fc-48ce-86a7-3efd6499d489:0-0</td>\n",
       "      <td>0</td>\n",
       "    </tr>\n",
       "  </tbody>\n",
       "</table>\n",
       "</div>"
      ],
      "text/plain": [
       "      Chromosome Source     Feature      Start        End Score Strand Frame  \\\n",
       "3609        chr1  FLAIR  transcript  197201480  197202322     .      +     .   \n",
       "3610        chr1  FLAIR        exon  197201480  197201588     .      +     .   \n",
       "3611        chr1  FLAIR        exon  197202188  197202322     .      +     .   \n",
       "15155       chr1  FLAIR  transcript  197201505  197202322     .      -     .   \n",
       "15156       chr1  FLAIR        exon  197201505  197202322     .      -     .   \n",
       "\n",
       "                 gene_id                             transcript_id exon_number  \n",
       "3609   ENSG00000290127.2                         ENST00000843833.1         NaN  \n",
       "3610   ENSG00000290127.2                         ENST00000843833.1           0  \n",
       "3611   ENSG00000290127.2                         ENST00000843833.1           1  \n",
       "15155  ENSG00000290127.2  8e8ddb4c-21fc-48ce-86a7-3efd6499d489:0-0         NaN  \n",
       "15156  ENSG00000290127.2  8e8ddb4c-21fc-48ce-86a7-3efd6499d489:0-0           0  "
      ]
     },
     "execution_count": 35,
     "metadata": {},
     "output_type": "execute_result"
    }
   ],
   "source": [
    "gtf_df.loc[gtf_df.gene_id=='ENSG00000290127.2']"
   ]
  },
  {
   "cell_type": "code",
   "execution_count": 36,
   "id": "cce1818c-704c-4231-b089-f2e91f140459",
   "metadata": {},
   "outputs": [
    {
     "data": {
      "text/plain": [
       "['4e4111a9-9f7a-4526-9b30-75ae187cf1d6:0-0',\n",
       " '624ce7de-b726-4ba0-a4a1-960b8b8d46bf:0-0',\n",
       " '62d10d43-45ed-4e77-aa80-3d2e26bb0c95:0-0',\n",
       " 'e3b610c8-2d47-4071-969d-1e821c925426:0-0',\n",
       " 'c313ce47-4f03-4a54-a966-6709cb4d1c00:0-0',\n",
       " '8c2bd8f7-d7d9-4144-87f0-eda0fdd3ec90:0-0',\n",
       " '69589786-8c41-404d-bd01-ecce4bbcd87b:0-0',\n",
       " '08088ba1-a76e-4618-a30d-0533e8c69c3c:0-0',\n",
       " '7c476f81-7d3f-41f6-bb6f-81cebf6efd23:0-0',\n",
       " '439aedc2-2cad-4bd3-b3e8-e72e3dbedafd:0-0',\n",
       " 'f191e4cc-9f56-4cd0-80f2-7abece82afc8:0_2-0',\n",
       " '6f3ec174-c2a3-4af4-be56-3b7ebf6713c5:0-0',\n",
       " '5a2949ff-3248-4da5-91af-c2a968e9df51:0-0',\n",
       " 'bbc3d1c8-e4b7-4861-a1df-c1a6a2bb01be:0-0']"
      ]
     },
     "execution_count": 36,
     "metadata": {},
     "output_type": "execute_result"
    }
   ],
   "source": [
    "tids"
   ]
  },
  {
   "cell_type": "code",
   "execution_count": null,
   "id": "934e535c-f705-4f5c-b551-152ef4555cc1",
   "metadata": {},
   "outputs": [],
   "source": []
  }
 ],
 "metadata": {
  "kernelspec": {
   "display_name": "Python 3 (ipykernel)",
   "language": "python",
   "name": "python3"
  },
  "language_info": {
   "codemirror_mode": {
    "name": "ipython",
    "version": 3
   },
   "file_extension": ".py",
   "mimetype": "text/x-python",
   "name": "python",
   "nbconvert_exporter": "python",
   "pygments_lexer": "ipython3",
   "version": "3.9.9"
  }
 },
 "nbformat": 4,
 "nbformat_minor": 5
}
